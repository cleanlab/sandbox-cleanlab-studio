{
 "cells": [
  {
   "cell_type": "markdown",
   "metadata": {},
   "source": [
    "# Dataset View Demo\n",
    "Demonstrates reading a dataset table (from Avro) w/ a variety of sorts and filters"
   ]
  },
  {
   "cell_type": "code",
   "execution_count": 8,
   "metadata": {},
   "outputs": [],
   "source": [
    "import os\n",
    "import pathlib\n",
    "\n",
    "import pyspark.sql\n",
    "import pyspark.sql.functions\n",
    "\n",
    "import sys; sys.path.insert(0, \".\")\n",
    "from sample_data import DATA_DIR, fetch_dataset"
   ]
  },
  {
   "cell_type": "code",
   "execution_count": 7,
   "metadata": {},
   "outputs": [],
   "source": [
    "os.environ['PYSPARK_SUBMIT_ARGS'] = '--packages org.apache.spark:spark-avro_2.12:3.3.2 pyspark-shell'\n",
    "\n",
    "spark = pyspark.sql.SparkSession.builder.appName(\n",
    "    \"dataset_view_demo\"\n",
    ").getOrCreate()"
   ]
  },
  {
   "cell_type": "code",
   "execution_count": 3,
   "metadata": {},
   "outputs": [],
   "source": [
    "# download dataset to use\n",
    "DATASET_TO_USE = \"Tweets-100M.csv\"\n",
    "DATASET_PATH = fetch_dataset(DATASET_TO_USE)"
   ]
  },
  {
   "cell_type": "code",
   "execution_count": 5,
   "metadata": {},
   "outputs": [
    {
     "name": "stdout",
     "output_type": "stream",
     "text": [
      "+--------------------+-----------------+----------------------------+--------------+-------------------------+--------------+----------------------+---------------+-------------------+-------------+--------------------+-----------+--------------------+--------------------+--------------------+\n",
      "|            tweet_id|airline_sentiment|airline_sentiment_confidence|negativereason|negativereason_confidence|       airline|airline_sentiment_gold|           name|negativereason_gold|retweet_count|                text|tweet_coord|       tweet_created|      tweet_location|       user_timezone|\n",
      "+--------------------+-----------------+----------------------------+--------------+-------------------------+--------------+----------------------+---------------+-------------------+-------------+--------------------+-----------+--------------------+--------------------+--------------------+\n",
      "|                   0|          neutral|                         1.0|          null|                     null|Virgin America|                  null|        cairdin|               null|            0|@VirginAmerica Wh...|       null|2015-02-24 11:35:...|                null|Eastern Time (US ...|\n",
      "|                   1|         positive|                      0.3486|          null|                      0.0|Virgin America|                  null|       jnardino|               null|            0|@VirginAmerica pl...|       null|2015-02-24 11:15:...|                null|Pacific Time (US ...|\n",
      "|                   2|          neutral|                      0.6837|          null|                     null|Virgin America|                  null|     yvonnalynn|               null|            0|@VirginAmerica I ...|       null|2015-02-24 11:15:...|           Lets Play|Central Time (US ...|\n",
      "|                   3|         negative|                         1.0|    Bad Flight|                   0.7033|Virgin America|                  null|       jnardino|               null|            0|\"@VirginAmerica i...|       null|2015-02-24 11:15:...|                null|Pacific Time (US ...|\n",
      "|                   4|         negative|                         1.0|    Can't Tell|                      1.0|Virgin America|                  null|       jnardino|               null|            0|@VirginAmerica an...|       null|2015-02-24 11:14:...|                null|Pacific Time (US ...|\n",
      "|                   5|         negative|                         1.0|    Can't Tell|                   0.6842|Virgin America|                  null|       jnardino|               null|            0|@VirginAmerica se...|       null|                null|                null|                null|\n",
      "|it's really the o...|             null|        2015-02-24 11:14:...|          null|     Pacific Time (US ...|          null|                  null|           null|               null|         null|                null|       null|                null|                null|                null|\n",
      "|                   6|         positive|                      0.6745|          null|                      0.0|Virgin America|                  null|     cjmcginnis|               null|            0|@VirginAmerica ye...|       null|2015-02-24 11:13:...|    San Francisco CA|Pacific Time (US ...|\n",
      "|                   7|          neutral|                       0.634|          null|                     null|Virgin America|                  null|          pilot|               null|            0|@VirginAmerica Re...|       null|2015-02-24 11:12:...|         Los Angeles|Pacific Time (US ...|\n",
      "|                   8|         positive|                      0.6559|          null|                     null|Virgin America|                  null|       dhepburn|               null|            0|@virginamerica We...|       null|2015-02-24 11:11:...|           San Diego|Pacific Time (US ...|\n",
      "|                   9|         positive|                         1.0|          null|                     null|Virgin America|                  null|     YupitsTate|               null|            0|@VirginAmerica it...|       null|2015-02-24 10:53:...|         Los Angeles|Eastern Time (US ...|\n",
      "|                  10|          neutral|                      0.6769|          null|                      0.0|Virgin America|                  null|idk_but_youtube|               null|            0|@VirginAmerica di...|       null|2015-02-24 10:48:...|     1/1 loner squad|Eastern Time (US ...|\n",
      "|                  11|         positive|                         1.0|          null|                     null|Virgin America|                  null|   HyperCamiLax|               null|            0|@VirginAmerica I ...|       null|2015-02-24 10:30:...|                 NYC|    America/New_York|\n",
      "|                  12|         positive|                         1.0|          null|                     null|Virgin America|                  null|   HyperCamiLax|               null|            0|@VirginAmerica Th...|       null|2015-02-24 10:30:...|                 NYC|    America/New_York|\n",
      "|                  13|         positive|                      0.6451|          null|                     null|Virgin America|                  null|   mollanderson|               null|            0|@VirginAmerica @v...|       null|2015-02-24 10:21:...|                null|Eastern Time (US ...|\n",
      "|                  14|         positive|                         1.0|          null|                     null|Virgin America|                  null|       sjespers|               null|            0|@VirginAmerica Th...|       null|2015-02-24 10:15:...|   San Francisco, CA|Pacific Time (US ...|\n",
      "|                  15|         negative|                      0.6842|   Late Flight|                   0.3684|Virgin America|                  null|smartwatermelon|               null|            0|@VirginAmerica SF...|       null|2015-02-24 10:01:...|       palo alto, ca|Pacific Time (US ...|\n",
      "|                  16|         positive|                         1.0|          null|                     null|Virgin America|                  null|  ItzBrianHunty|               null|            0|@VirginAmerica So...|       null|2015-02-24 09:42:...|         west covina|Pacific Time (US ...|\n",
      "|                  17|         negative|                         1.0|    Bad Flight|                      1.0|Virgin America|                  null|  heatherovieda|               null|            0|@VirginAmerica  I...|       null|2015-02-24 09:39:...|this place called...|Eastern Time (US ...|\n",
      "|                  18|         positive|                         1.0|          null|                     null|Virgin America|                  null|   thebrandiray|               null|            0|I ❤️ flying @Virg...|       null|2015-02-24 09:15:...|Somewhere celebra...|Atlantic Time (Ca...|\n",
      "+--------------------+-----------------+----------------------------+--------------+-------------------------+--------------+----------------------+---------------+-------------------+-------------+--------------------+-----------+--------------------+--------------------+--------------------+\n",
      "only showing top 20 rows\n",
      "\n"
     ]
    },
    {
     "name": "stderr",
     "output_type": "stream",
     "text": [
      "                                                                                \r"
     ]
    }
   ],
   "source": [
    "# load dataset to dataframe\n",
    "dataset_df = spark.read.option(\"header\", True).format(\"csv\").load(str(DATASET_PATH))\n",
    "dataset_df.show()\n",
    "\n",
    "# save dataset to Avro\n",
    "AVRO_DATASET_PATH = DATASET_PATH.with_suffix(\".avro\")\n",
    "dataset_df.write.format(\"avro\").save(str(AVRO_DATASET_PATH), mode=\"overwrite\")"
   ]
  },
  {
   "cell_type": "markdown",
   "metadata": {},
   "source": [
    "## Sort/Select Demo\n",
    "The following demo shows how to run select queries on several columns of the dataset. This mimics the operations that *will* be used in the dataset view page of Cleanlab Studio.\n",
    "\n",
    "#### Notes\n",
    "Spark does not support offsets, so we have to add a monotonically increasing ID on our sorted table and do a filter to achieve a limit + offset operation."
   ]
  },
  {
   "cell_type": "markdown",
   "metadata": {},
   "source": [
    "### Single Column Sort + Select"
   ]
  },
  {
   "cell_type": "code",
   "execution_count": 17,
   "metadata": {},
   "outputs": [
    {
     "name": "stdout",
     "output_type": "stream",
     "text": [
      "+--------------------+--------------------+----------------------------+--------------------+-------------------------+--------------------+----------------------+-------------+-------------------+-------------+--------------------+--------------------+-------------+--------------------+------------------+---------+\n",
      "|            tweet_id|   airline_sentiment|airline_sentiment_confidence|      negativereason|negativereason_confidence|             airline|airline_sentiment_gold|         name|negativereason_gold|retweet_count|                text|         tweet_coord|tweet_created|      tweet_location|     user_timezone|__sort_id|\n",
      "+--------------------+--------------------+----------------------------+--------------------+-------------------------+--------------------+----------------------+-------------+-------------------+-------------+--------------------+--------------------+-------------+--------------------+------------------+---------+\n",
      "|Please see a JetB...|                null|        2015-02-20 06:26:...|        New York, NY|     Central Time (US ...|                null|                  null|         null|               null|         null|                null|                null|         null|                null|              null|     8000|\n",
      "|              183952|             neutral|                         1.0|                null|                     null|               Delta|                  null| royalsherman|               null|            0|\"@JetBlue I want ...| can I please ent...|         null|2015-02-19 14:45:...|              null|     8001|\n",
      "|              184165|            negative|                      0.6598|Customer Service ...|                   0.3711|               Delta|                  null|   Bill_Faulk|               null|            0|\"@JetBlue I put i...| click update and...|         null|2015-02-18 16:56:...|#ManorvilleInExile|     8002|\n",
      "|              184216|            negative|                         1.0|        Lost Luggage|                   0.8436|               Delta|              negative| edgarsantana|       Lost Luggage|         null|                null|                null|         null|                null|              null|     8003|\n",
      "|    Damaged Luggage\"|                   0|        @JetBlue I am hea...|                null|     2015-02-18 14:57:...|ÜT: 40.96513,-73....|  Eastern Time (US ...|         null|               null|         null|                null|                null|         null|                null|              null|     8004|\n",
      "|              184535|            negative|                         1.0|Customer Service ...|                      1.0|               Delta|                  null|     phil0616|               null|            0|           @JetBlue |                null|         null|                null|              null|     8005|\n",
      "|But if customer s...|                null|        2015-02-17 13:27:...|        Florida, USA|                     null|                null|                  null|         null|               null|         null|                null|                null|         null|                null|              null|     8006|\n",
      "|              184542|            negative|                       0.679|          Can't Tell|                   0.3624|               Delta|                  null|     phil0616|               null|            0|           @JetBlue |                null|         null|                null|              null|     8007|\n",
      "|    Apparently not.\"|                null|        2015-02-17 13:12:...|        Florida, USA|                     null|                null|                  null|         null|               null|         null|                null|                null|         null|                null|              null|     8008|\n",
      "|              184544|            negative|                         1.0|Customer Service ...|                   0.6652|               Delta|                  null|    billykaos|               null|            0|\"@JetBlue continu...|                null|         null|                null|              null|     8009|\n",
      "|regardless of how...|                null|                        null|                null|                     null|                null|                  null|         null|               null|         null|                null|                null|         null|                null|              null|     8010|\n",
      "|hint: the end of it\"|          [0.0, 0.0]|        2015-02-17 13:06:...|              Boston|     Eastern Time (US ...|                null|                  null|         null|               null|         null|                null|                null|         null|                null|              null|     8011|\n",
      "|              184705|             neutral|                      0.6354|                null|                     null|          US Airways|                  null| sundialtours|               null|            0|\"@USAirways \"\"Air...|                null|         null|                null|              null|     8012|\n",
      "|Keep up the good ...| this is where Ce...|                        null|2015-02-24 09:48:...|              Astoria, OR|             Tijuana|                  null|         null|               null|         null|                null|                null|         null|                null|              null|     8013|\n",
      "|              184733|             neutral|                         1.0|                null|                     null|          US Airways|                  null|  JenRomanoff|               null|            0|@USAirways to my ...|                null|         null|                null|              null|     8014|\n",
      "|I just used the w...|                null|        2015-02-24 08:55:...|                null|     Eastern Time (US ...|                null|                  null|         null|               null|         null|                null|                null|         null|                null|              null|     8015|\n",
      "|              184747|             neutral|                         1.0|                null|                     null|          US Airways|                  null|oliviahaymond|               null|            0|\"@USAirways Is th...|         here... 👀\"|         null|2015-02-24 08:13:...|    Tampa, Florida|     8016|\n",
      "|              184851|            negative|                         1.0|Flight Booking Pr...|                   0.6601|          US Airways|                  null| worldwideweg|               null|            0|@USAirways  Inste...|                null|         null|                null|              null|     8017|\n",
      "|-- My request to ...|                null|        2015-02-23 20:54:...|                null|                     null|                null|                  null|         null|               null|         null|                null|                null|         null|                null|              null|     8018|\n",
      "|              184879|            negative|                         1.0|Customer Service ...|                      1.0|          US Airways|                  null|      lmeckPR|               null|            0|@USAirways cust s...|                null|         null|                null|              null|     8019|\n",
      "+--------------------+--------------------+----------------------------+--------------------+-------------------------+--------------------+----------------------+-------------+-------------------+-------------+--------------------+--------------------+-------------+--------------------+------------------+---------+\n",
      "only showing top 20 rows\n",
      "\n"
     ]
    }
   ],
   "source": [
    "# load spark table from avro\n",
    "dataset_table = spark.read.format(\"avro\").load(str(AVRO_DATASET_PATH))\n",
    "\n",
    "# sort on a single column, and select N samples from an offset\n",
    "col_name = \"tweet_created\"\n",
    "num_samples = 100\n",
    "offset = 8000\n",
    "\n",
    "sorted_table = dataset_table.sort(col_name)\n",
    "sorted_table = sorted_table.withColumn(\"__sort_id\", pyspark.sql.functions.monotonically_increasing_id())\n",
    "res = sorted_table.where(pyspark.sql.functions.col(\"__sort_id\").between(offset, offset + num_samples))\n",
    "res.show()"
   ]
  },
  {
   "cell_type": "markdown",
   "metadata": {},
   "source": [
    "### Multi-column Sort + Select"
   ]
  },
  {
   "cell_type": "code",
   "execution_count": 18,
   "metadata": {},
   "outputs": [
    {
     "name": "stdout",
     "output_type": "stream",
     "text": [
      "+--------+-----------------+----------------------------+--------------------+-------------------------+---------+----------------------+---------------+-------------------+-------------+--------------------+--------------------+-------------+--------------------+--------------------+---------+\n",
      "|tweet_id|airline_sentiment|airline_sentiment_confidence|      negativereason|negativereason_confidence|  airline|airline_sentiment_gold|           name|negativereason_gold|retweet_count|                text|         tweet_coord|tweet_created|      tweet_location|       user_timezone|__sort_id|\n",
      "+--------+-----------------+----------------------------+--------------------+-------------------------+---------+----------------------+---------------+-------------------+-------------+--------------------+--------------------+-------------+--------------------+--------------------+---------+\n",
      "|  324800|         negative|                         1.0|Customer Service ...|                      1.0|   United|                  null|     KatieJelen|               null|            0|\"@united Your \"\"L...| but thanks. Mayb...|         null|2015-02-20 16:46:...|Los Angeles, CA (...|     8000|\n",
      "|  324852|         negative|                         1.0|         Late Flight|                      1.0|   United|                  null|     RegYohanan|               null|            1|@united worst AIR...|                null|         null|                null|                null|     8001|\n",
      "|   32489|         negative|                         1.0|          Can't Tell|                   0.3587|   United|                  null|      abecohenj|               null|            0|\"@united playing ...| it should only b...|         null|2015-02-19 18:15:...|                null|     8002|\n",
      "|  325006|         negative|                         1.0|          Can't Tell|       0.6629999999999999|   United|                  null|     riad_otoum|               null|            0|@united I can tel...|                null|         null|                null|                null|     8003|\n",
      "|  325229|         negative|                       0.922|Customer Service ...|                   0.4513|   United|              negative|     Mosborne13|   Cancelled Flight|         null|                null|                null|         null|                null|                null|     8004|\n",
      "|  325289|         negative|                         1.0|          Can't Tell|                   0.3587|   United|                  null|      abecohenj|               null|            0|\"@united playing ...| it should only b...|         null|2015-02-19 18:15:...|                null|     8005|\n",
      "|  325353|         negative|                         1.0|         Late Flight|                      1.0|   United|                  null|     ellenrayrx|               null|            0|@united What happ...|                null|         null|                null|                null|     8006|\n",
      "|   32553|         negative|                         1.0|         Late Flight|                      1.0|   United|                  null|     ellenrayrx|               null|            0|@united What happ...|                null|         null|                null|                null|     8007|\n",
      "|  325605|         negative|                         1.0|          Can't Tell|                   0.6753|   United|                  null|  2cJustice4all|               null|            0|@united : Unhappy...|                null|         null|                null|                null|     8008|\n",
      "|  325743|         negative|                      0.3546|         Late Flight|                   0.3546|   United|                  null| OneKLutzyNinja|               null|            0|@united It was qu...|                null|         null|                null|                null|     8009|\n",
      "|  325996|         negative|                         1.0|Customer Service ...|                   0.6688|   United|                  null|         urno12|               null|            0|@united it has no...|                null|         null|                null|                null|     8010|\n",
      "|  326098|         negative|                         1.0|Customer Service ...|                      1.0|   United|                  null|1MisterHandsome|               null|            0|@united You allow...|                null|         null|                null|                null|     8011|\n",
      "|  326152|         negative|                         1.0|          Can't Tell|                   0.3568|   United|                  null|      annricord|               null|            0|@united @annricor...|                null|         null|                null|                null|     8012|\n",
      "|  326225|         negative|                         1.0|         Late Flight|                   0.6815|   United|                  null|        kmensah|               null|            0|@united My flight...|                null|         null|                null|                null|     8013|\n",
      "|  326375|         negative|                      0.3456|          Can't Tell|                   0.3456|   United|                  null|      meracross|               null|            0|@united's first-c...|                null|         null|                null|                null|     8014|\n",
      "|  326589|         negative|                         1.0|        Lost Luggage|                      1.0|Southwest|                  null|   amymiller305|               null|            0|@SouthwestAir hey...|                null|         null|                null|                null|     8015|\n",
      "|  326717|         negative|                         1.0|          Can't Tell|                   0.3506|Southwest|                  null|  CravenMorhead|               null|            0|@SouthwestAir 10+...|                null|         null|                null|                null|     8016|\n",
      "|  326849|         negative|                         1.0|Flight Attendant ...|                    0.348|Southwest|                  null|   steve_holder|               null|            0|\"@SouthwestAir RT...| that system is a...|         null|2015-02-23 05:28:...|                null|     8017|\n",
      "|  326903|         negative|                      0.3437|Flight Booking Pr...|                   0.3437|Southwest|                  null|    ClinicPolly|               null|            0|@SouthwestAir tha...|                null|         null|                null|                null|     8018|\n",
      "|  327148|         negative|                      0.6515|         Late Flight|                   0.6515|Southwest|                  null|  scoobydoo9749|               null|            0|\"@SouthwestAir \"\"...| no I understand ...|         null|2015-02-21 21:53:...|     Tallahassee, FL|     8019|\n",
      "+--------+-----------------+----------------------------+--------------------+-------------------------+---------+----------------------+---------------+-------------------+-------------+--------------------+--------------------+-------------+--------------------+--------------------+---------+\n",
      "only showing top 20 rows\n",
      "\n"
     ]
    }
   ],
   "source": [
    "# load spark table from avro\n",
    "dataset_table = spark.read.format(\"avro\").load(str(AVRO_DATASET_PATH))\n",
    "\n",
    "# sort on multiple columns, and select N samples from an offset\n",
    "col_names = [\"tweet_created\", \"airline_sentiment\", \"tweet_id\"]\n",
    "num_samples = 100\n",
    "offset = 8000\n",
    "\n",
    "sorted_table = dataset_table.sort(col_names)\n",
    "sorted_table = sorted_table.withColumn(\"__sort_id\", pyspark.sql.functions.monotonically_increasing_id())\n",
    "res = sorted_table.where(pyspark.sql.functions.col(\"__sort_id\").between(offset, offset + num_samples))\n",
    "res.show()"
   ]
  },
  {
   "cell_type": "markdown",
   "metadata": {},
   "source": [
    "### Single Column Filter + Sort + Select"
   ]
  },
  {
   "cell_type": "code",
   "execution_count": null,
   "metadata": {},
   "outputs": [
    {
     "name": "stdout",
     "output_type": "stream",
     "text": [
      "+--------+-----------------+----------------------------+--------------+-------------------------+-------+----------------------+----------+-------------------+-------------+-----------------+-----------+--------------------+--------------+-------------+---------+\n",
      "|tweet_id|airline_sentiment|airline_sentiment_confidence|negativereason|negativereason_confidence|airline|airline_sentiment_gold|      name|negativereason_gold|retweet_count|             text|tweet_coord|       tweet_created|tweet_location|user_timezone|__sort_id|\n",
      "+--------+-----------------+----------------------------+--------------+-------------------------+-------+----------------------+----------+-------------------+-------------+-----------------+-----------+--------------------+--------------+-------------+---------+\n",
      "|    4117|          neutral|                         1.0|          null|                     null| United|                  null|boombaby55|               null|            0|@united no thanks|       null|2015-02-17 14:37:...|     san diego|         null|     8000|\n",
      "|   18757|          neutral|                         1.0|          null|                     null| United|                  null|boombaby55|               null|            0|@united no thanks|       null|2015-02-17 14:37:...|     san diego|         null|     8001|\n",
      "|   33397|          neutral|                         1.0|          null|                     null| United|                  null|boombaby55|               null|            0|@united no thanks|       null|2015-02-17 14:37:...|     san diego|         null|     8002|\n",
      "|   48037|          neutral|                         1.0|          null|                     null| United|                  null|boombaby55|               null|            0|@united no thanks|       null|2015-02-17 14:37:...|     san diego|         null|     8003|\n",
      "|  121237|          neutral|                         1.0|          null|                     null| United|                  null|boombaby55|               null|            0|@united no thanks|       null|2015-02-17 14:37:...|     san diego|         null|     8004|\n",
      "|  135877|          neutral|                         1.0|          null|                     null| United|                  null|boombaby55|               null|            0|@united no thanks|       null|2015-02-17 14:37:...|     san diego|         null|     8005|\n",
      "|  150517|          neutral|                         1.0|          null|                     null| United|                  null|boombaby55|               null|            0|@united no thanks|       null|2015-02-17 14:37:...|     san diego|         null|     8006|\n",
      "|  165157|          neutral|                         1.0|          null|                     null| United|                  null|boombaby55|               null|            0|@united no thanks|       null|2015-02-17 14:37:...|     san diego|         null|     8007|\n",
      "|  355477|          neutral|                         1.0|          null|                     null| United|                  null|boombaby55|               null|            0|@united no thanks|       null|2015-02-17 14:37:...|     san diego|         null|     8008|\n",
      "|  370117|          neutral|                         1.0|          null|                     null| United|                  null|boombaby55|               null|            0|@united no thanks|       null|2015-02-17 14:37:...|     san diego|         null|     8009|\n",
      "|  384757|          neutral|                         1.0|          null|                     null| United|                  null|boombaby55|               null|            0|@united no thanks|       null|2015-02-17 14:37:...|     san diego|         null|     8010|\n",
      "|  399397|          neutral|                         1.0|          null|                     null| United|                  null|boombaby55|               null|            0|@united no thanks|       null|2015-02-17 14:37:...|     san diego|         null|     8011|\n",
      "|   62677|          neutral|                         1.0|          null|                     null| United|                  null|boombaby55|               null|            0|@united no thanks|       null|2015-02-17 14:37:...|     san diego|         null|     8012|\n",
      "|   77317|          neutral|                         1.0|          null|                     null| United|                  null|boombaby55|               null|            0|@united no thanks|       null|2015-02-17 14:37:...|     san diego|         null|     8013|\n",
      "|   91957|          neutral|                         1.0|          null|                     null| United|                  null|boombaby55|               null|            0|@united no thanks|       null|2015-02-17 14:37:...|     san diego|         null|     8014|\n",
      "|  106597|          neutral|                         1.0|          null|                     null| United|                  null|boombaby55|               null|            0|@united no thanks|       null|2015-02-17 14:37:...|     san diego|         null|     8015|\n",
      "|  296917|          neutral|                         1.0|          null|                     null| United|                  null|boombaby55|               null|            0|@united no thanks|       null|2015-02-17 14:37:...|     san diego|         null|     8016|\n",
      "|  311557|          neutral|                         1.0|          null|                     null| United|                  null|boombaby55|               null|            0|@united no thanks|       null|2015-02-17 14:37:...|     san diego|         null|     8017|\n",
      "|  326197|          neutral|                         1.0|          null|                     null| United|                  null|boombaby55|               null|            0|@united no thanks|       null|2015-02-17 14:37:...|     san diego|         null|     8018|\n",
      "|  340837|          neutral|                         1.0|          null|                     null| United|                  null|boombaby55|               null|            0|@united no thanks|       null|2015-02-17 14:37:...|     san diego|         null|     8019|\n",
      "+--------+-----------------+----------------------------+--------------+-------------------------+-------+----------------------+----------+-------------------+-------------+-----------------+-----------+--------------------+--------------+-------------+---------+\n",
      "only showing top 20 rows\n",
      "\n"
     ]
    }
   ],
   "source": [
    "# load spark table from avro\n",
    "dataset_table = spark.read.format(\"avro\").load(str(AVRO_DATASET_PATH))\n",
    "\n",
    "# filter on a single column, sort on a single column, and select N samples from an offset\n",
    "filter_col_name = \"airline_sentiment\"\n",
    "filter_col_value = \"neutral\"\n",
    "sort_col_name = \"tweet_created\"\n",
    "num_samples = 100\n",
    "offset = 8000\n",
    "\n",
    "filtered_table = dataset_table.filter(pyspark.sql.functions.col(filter_col_name).eqNullSafe(filter_col_value))\n",
    "sorted_table = filtered_table.sort(col_name)\n",
    "sorted_table = sorted_table.withColumn(\"__sort_id\", pyspark.sql.functions.monotonically_increasing_id())\n",
    "res = sorted_table.where(pyspark.sql.functions.col(\"__sort_id\").between(offset, offset + num_samples))\n",
    "res.show()"
   ]
  },
  {
   "cell_type": "markdown",
   "metadata": {},
   "source": [
    "### Mutli Column Filter + Sort + Select"
   ]
  },
  {
   "cell_type": "code",
   "execution_count": 23,
   "metadata": {},
   "outputs": [
    {
     "name": "stdout",
     "output_type": "stream",
     "text": [
      "+--------+-----------------+----------------------------+--------------+-------------------------+----------+----------------------+------------+-------------------+-------------+--------------------+-----------+--------------------+--------------+-------------+---------+\n",
      "|tweet_id|airline_sentiment|airline_sentiment_confidence|negativereason|negativereason_confidence|   airline|airline_sentiment_gold|        name|negativereason_gold|retweet_count|                text|tweet_coord|       tweet_created|tweet_location|user_timezone|__sort_id|\n",
      "+--------+-----------------+----------------------------+--------------+-------------------------+----------+----------------------+------------+-------------------+-------------+--------------------+-----------+--------------------+--------------+-------------+---------+\n",
      "|  333047|         positive|                         1.0|          null|                     null|US Airways|                  null|pamela_moats|               null|            0|@USAirways @Ameri...|       null|2015-02-20 04:25:...|          null|         null|     8000|\n",
      "|  347687|         positive|                         1.0|          null|                     null|US Airways|                  null|pamela_moats|               null|            0|@USAirways @Ameri...|       null|2015-02-20 04:25:...|          null|         null|     8001|\n",
      "|  362327|         positive|                         1.0|          null|                     null|US Airways|                  null|pamela_moats|               null|            0|@USAirways @Ameri...|       null|2015-02-20 04:25:...|          null|         null|     8002|\n",
      "|  376967|         positive|                         1.0|          null|                     null|US Airways|                  null|pamela_moats|               null|            0|@USAirways @Ameri...|       null|2015-02-20 04:25:...|          null|         null|     8003|\n",
      "|  391607|         positive|                         1.0|          null|                     null|US Airways|                  null|pamela_moats|               null|            0|@USAirways @Ameri...|       null|2015-02-20 04:25:...|          null|         null|     8004|\n",
      "|   40247|         positive|                         1.0|          null|                     null|US Airways|                  null|pamela_moats|               null|            0|@USAirways @Ameri...|       null|2015-02-20 04:25:...|          null|         null|     8005|\n",
      "|  406247|         positive|                         1.0|          null|                     null|US Airways|                  null|pamela_moats|               null|            0|@USAirways @Ameri...|       null|2015-02-20 04:25:...|          null|         null|     8006|\n",
      "|  420887|         positive|                         1.0|          null|                     null|US Airways|                  null|pamela_moats|               null|            0|@USAirways @Ameri...|       null|2015-02-20 04:25:...|          null|         null|     8007|\n",
      "|  435527|         positive|                         1.0|          null|                     null|US Airways|                  null|pamela_moats|               null|            0|@USAirways @Ameri...|       null|2015-02-20 04:25:...|          null|         null|     8008|\n",
      "|   54887|         positive|                         1.0|          null|                     null|US Airways|                  null|pamela_moats|               null|            0|@USAirways @Ameri...|       null|2015-02-20 04:25:...|          null|         null|     8009|\n",
      "|   69527|         positive|                         1.0|          null|                     null|US Airways|                  null|pamela_moats|               null|            0|@USAirways @Ameri...|       null|2015-02-20 04:25:...|          null|         null|     8010|\n",
      "|   84167|         positive|                         1.0|          null|                     null|US Airways|                  null|pamela_moats|               null|            0|@USAirways @Ameri...|       null|2015-02-20 04:25:...|          null|         null|     8011|\n",
      "|   98807|         positive|                         1.0|          null|                     null|US Airways|                  null|pamela_moats|               null|            0|@USAirways @Ameri...|       null|2015-02-20 04:25:...|          null|         null|     8012|\n",
      "|  110613|         positive|                         1.0|          null|                     null|     Delta|                  null|  DMenachery|               null|            0|@JetBlue Big than...|       null|2015-02-20 04:43:...|          null|         null|     8013|\n",
      "|  125253|         positive|                         1.0|          null|                     null|     Delta|                  null|  DMenachery|               null|            0|@JetBlue Big than...|       null|2015-02-20 04:43:...|          null|         null|     8014|\n",
      "|  139893|         positive|                         1.0|          null|                     null|     Delta|                  null|  DMenachery|               null|            0|@JetBlue Big than...|       null|2015-02-20 04:43:...|          null|         null|     8015|\n",
      "|  154533|         positive|                         1.0|          null|                     null|     Delta|                  null|  DMenachery|               null|            0|@JetBlue Big than...|       null|2015-02-20 04:43:...|          null|         null|     8016|\n",
      "|  169173|         positive|                         1.0|          null|                     null|     Delta|                  null|  DMenachery|               null|            0|@JetBlue Big than...|       null|2015-02-20 04:43:...|          null|         null|     8017|\n",
      "|  183813|         positive|                         1.0|          null|                     null|     Delta|                  null|  DMenachery|               null|            0|@JetBlue Big than...|       null|2015-02-20 04:43:...|          null|         null|     8018|\n",
      "|  198453|         positive|                         1.0|          null|                     null|     Delta|                  null|  DMenachery|               null|            0|@JetBlue Big than...|       null|2015-02-20 04:43:...|          null|         null|     8019|\n",
      "+--------+-----------------+----------------------------+--------------+-------------------------+----------+----------------------+------------+-------------------+-------------+--------------------+-----------+--------------------+--------------+-------------+---------+\n",
      "only showing top 20 rows\n",
      "\n"
     ]
    }
   ],
   "source": [
    "# load spark table from avro\n",
    "dataset_table = spark.read.format(\"avro\").load(str(AVRO_DATASET_PATH))\n",
    "\n",
    "# filter on a multiple columns, sort on multiple columns, and select N samples from an offset\n",
    "filter_col_names = [\"airline_sentiment\", \"user_timezone\"]\n",
    "filter_col_values = [\"positive\", None]\n",
    "sort_col_names = [\"tweet_created\", \"airline_sentiment\", \"tweet_id\"]\n",
    "num_samples = 100\n",
    "offset = 8000\n",
    "\n",
    "filtered_table = dataset_table.filter(\n",
    "    pyspark.sql.functions.col(filter_col_names[0]).eqNullSafe(filter_col_values[0])\n",
    ").filter(\n",
    "    pyspark.sql.functions.col(filter_col_names[1]).eqNullSafe(filter_col_values[1]),\n",
    ")\n",
    "sorted_table = filtered_table.sort(sort_col_names)\n",
    "sorted_table = sorted_table.withColumn(\"__sort_id\", pyspark.sql.functions.monotonically_increasing_id())\n",
    "res = sorted_table.where(pyspark.sql.functions.col(\"__sort_id\").between(offset, offset + num_samples))\n",
    "res.show()"
   ]
  }
 ],
 "metadata": {
  "kernelspec": {
   "display_name": "Python 3.10.4 64-bit ('3.10.4')",
   "language": "python",
   "name": "python3"
  },
  "language_info": {
   "codemirror_mode": {
    "name": "ipython",
    "version": 3
   },
   "file_extension": ".py",
   "mimetype": "text/x-python",
   "name": "python",
   "nbconvert_exporter": "python",
   "pygments_lexer": "ipython3",
   "version": "3.10.4"
  },
  "orig_nbformat": 4,
  "vscode": {
   "interpreter": {
    "hash": "0c352b5f43b626817a3ee00531d8acb728eb3c04bba5cd7e8d5b5c36e507dff1"
   }
  }
 },
 "nbformat": 4,
 "nbformat_minor": 2
}
