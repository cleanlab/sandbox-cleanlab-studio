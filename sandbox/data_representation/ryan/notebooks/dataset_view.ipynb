{
 "cells": [
  {
   "cell_type": "markdown",
   "metadata": {},
   "source": [
    "# Dataset View Demo\n",
    "Demonstrates reading a dataset table (from Avro) w/ a variety of sorts and filters"
   ]
  },
  {
   "cell_type": "code",
   "execution_count": 1,
   "metadata": {},
   "outputs": [],
   "source": [
    "import os\n",
    "import pathlib\n",
    "\n",
    "import pyspark.sql\n",
    "import pyspark.sql.functions\n",
    "\n",
    "import sys; sys.path.insert(0, \"../src/\")\n",
    "from sample_data import DATA_DIR, fetch_dataset"
   ]
  },
  {
   "cell_type": "code",
   "execution_count": 2,
   "metadata": {},
   "outputs": [
    {
     "name": "stdout",
     "output_type": "stream",
     "text": [
      "23/03/02 07:46:14 WARN Utils: Your hostname, Ryans-MacBook-Pro-3.local resolves to a loopback address: 127.0.0.1; using 172.19.1.157 instead (on interface en0)\n",
      "23/03/02 07:46:14 WARN Utils: Set SPARK_LOCAL_IP if you need to bind to another address\n"
     ]
    },
    {
     "name": "stderr",
     "output_type": "stream",
     "text": [
      "Setting default log level to \"WARN\".\n",
      "To adjust logging level use sc.setLogLevel(newLevel). For SparkR, use setLogLevel(newLevel).\n",
      "Exception in thread \"Thread-2\" ERROR:root:Exception while sending command.\n",
      "Traceback (most recent call last):\n",
      "  File \"/Users/ryansingman/.pyenv/versions/3.10.4/lib/python3.10/site-packages/py4j/clientserver.py\", line 516, in send_command\n",
      "    raise Py4JNetworkError(\"Answer from Java side is empty\")\n",
      "py4j.protocol.Py4JNetworkError: Answer from Java side is empty\n",
      "\n",
      "During handling of the above exception, another exception occurred:\n",
      "\n",
      "Traceback (most recent call last):\n",
      "  File \"/Users/ryansingman/.pyenv/versions/3.10.4/lib/python3.10/site-packages/py4j/java_gateway.py\", line 1038, in send_command\n",
      "    response = connection.send_command(command)\n",
      "  File \"/Users/ryansingman/.pyenv/versions/3.10.4/lib/python3.10/site-packages/py4j/clientserver.py\", line 539, in send_command\n",
      "    raise Py4JNetworkError(\n",
      "py4j.protocol.Py4JNetworkError: Error while sending or receiving\n"
     ]
    },
    {
     "name": "stdout",
     "output_type": "stream",
     "text": [
      "23/03/02 07:46:14 WARN NativeCodeLoader: Unable to load native-hadoop library for your platform... using builtin-java classes where applicable\n"
     ]
    },
    {
     "ename": "Py4JError",
     "evalue": "An error occurred while calling None.None",
     "output_type": "error",
     "traceback": [
      "\u001b[0;31m---------------------------------------------------------------------------\u001b[0m",
      "\u001b[0;31mPy4JError\u001b[0m                                 Traceback (most recent call last)",
      "Cell \u001b[0;32mIn[2], line 3\u001b[0m\n\u001b[1;32m      1\u001b[0m spark \u001b[38;5;241m=\u001b[39m \u001b[43mpyspark\u001b[49m\u001b[38;5;241;43m.\u001b[39;49m\u001b[43msql\u001b[49m\u001b[38;5;241;43m.\u001b[39;49m\u001b[43mSparkSession\u001b[49m\u001b[38;5;241;43m.\u001b[39;49m\u001b[43mbuilder\u001b[49m\u001b[38;5;241;43m.\u001b[39;49m\u001b[43mappName\u001b[49m\u001b[43m(\u001b[49m\n\u001b[1;32m      2\u001b[0m \u001b[43m    \u001b[49m\u001b[38;5;124;43m\"\u001b[39;49m\u001b[38;5;124;43mdataset_view_demo\u001b[39;49m\u001b[38;5;124;43m\"\u001b[39;49m\n\u001b[0;32m----> 3\u001b[0m \u001b[43m)\u001b[49m\u001b[38;5;241;43m.\u001b[39;49m\u001b[43mgetOrCreate\u001b[49m\u001b[43m(\u001b[49m\u001b[43m)\u001b[49m\n",
      "File \u001b[0;32m~/.pyenv/versions/3.10.4/lib/python3.10/site-packages/pyspark/sql/session.py:274\u001b[0m, in \u001b[0;36mSparkSession.Builder.getOrCreate\u001b[0;34m(self)\u001b[0m\n\u001b[1;32m    268\u001b[0m     sparkConf\u001b[39m.\u001b[39mset(key, value)\n\u001b[1;32m    269\u001b[0m \u001b[39m# This SparkContext may be an existing one.\u001b[39;00m\n\u001b[1;32m    270\u001b[0m \u001b[39m# BEGIN-EDGE\u001b[39;00m\n\u001b[1;32m    271\u001b[0m sc \u001b[39m=\u001b[39m (\n\u001b[1;32m    272\u001b[0m     \u001b[39mself\u001b[39m\u001b[39m.\u001b[39m_sc\n\u001b[1;32m    273\u001b[0m     \u001b[39mif\u001b[39;00m \u001b[39mself\u001b[39m\u001b[39m.\u001b[39m_sc \u001b[39mis\u001b[39;00m \u001b[39mnot\u001b[39;00m \u001b[39mNone\u001b[39;00m \u001b[39mand\u001b[39;00m \u001b[39mself\u001b[39m\u001b[39m.\u001b[39m_sc\u001b[39m.\u001b[39m_jsc \u001b[39mis\u001b[39;00m \u001b[39mnot\u001b[39;00m \u001b[39mNone\u001b[39;00m\n\u001b[0;32m--> 274\u001b[0m     \u001b[39melse\u001b[39;00m SparkContext\u001b[39m.\u001b[39;49mgetOrCreate(sparkConf)\n\u001b[1;32m    275\u001b[0m )\n\u001b[1;32m    276\u001b[0m \u001b[39m# END-EDGE\u001b[39;00m\n\u001b[1;32m    277\u001b[0m \u001b[39m# Do not update `SparkConf` for existing `SparkContext`, as it's shared\u001b[39;00m\n\u001b[1;32m    278\u001b[0m \u001b[39m# by all sessions.\u001b[39;00m\n\u001b[1;32m    279\u001b[0m session \u001b[39m=\u001b[39m SparkSession(sc, options\u001b[39m=\u001b[39m\u001b[39mself\u001b[39m\u001b[39m.\u001b[39m_options)\n",
      "File \u001b[0;32m~/.pyenv/versions/3.10.4/lib/python3.10/site-packages/pyspark/context.py:531\u001b[0m, in \u001b[0;36mSparkContext.getOrCreate\u001b[0;34m(cls, conf)\u001b[0m\n\u001b[1;32m    529\u001b[0m \u001b[39mwith\u001b[39;00m SparkContext\u001b[39m.\u001b[39m_lock:\n\u001b[1;32m    530\u001b[0m     \u001b[39mif\u001b[39;00m SparkContext\u001b[39m.\u001b[39m_active_spark_context \u001b[39mis\u001b[39;00m \u001b[39mNone\u001b[39;00m:\n\u001b[0;32m--> 531\u001b[0m         SparkContext(conf\u001b[39m=\u001b[39;49mconf \u001b[39mor\u001b[39;49;00m SparkConf())\n\u001b[1;32m    532\u001b[0m     \u001b[39massert\u001b[39;00m SparkContext\u001b[39m.\u001b[39m_active_spark_context \u001b[39mis\u001b[39;00m \u001b[39mnot\u001b[39;00m \u001b[39mNone\u001b[39;00m\n\u001b[1;32m    533\u001b[0m     \u001b[39mreturn\u001b[39;00m SparkContext\u001b[39m.\u001b[39m_active_spark_context\n",
      "File \u001b[0;32m~/.pyenv/versions/3.10.4/lib/python3.10/site-packages/pyspark/context.py:199\u001b[0m, in \u001b[0;36mSparkContext.__init__\u001b[0;34m(self, master, appName, sparkHome, pyFiles, environment, batchSize, serializer, conf, gateway, jsc, profiler_cls, udf_profiler_cls)\u001b[0m\n\u001b[1;32m    193\u001b[0m \u001b[39mif\u001b[39;00m gateway \u001b[39mis\u001b[39;00m \u001b[39mnot\u001b[39;00m \u001b[39mNone\u001b[39;00m \u001b[39mand\u001b[39;00m gateway\u001b[39m.\u001b[39mgateway_parameters\u001b[39m.\u001b[39mauth_token \u001b[39mis\u001b[39;00m \u001b[39mNone\u001b[39;00m:\n\u001b[1;32m    194\u001b[0m     \u001b[39mraise\u001b[39;00m \u001b[39mValueError\u001b[39;00m(\n\u001b[1;32m    195\u001b[0m         \u001b[39m\"\u001b[39m\u001b[39mYou are trying to pass an insecure Py4j gateway to Spark. This\u001b[39m\u001b[39m\"\u001b[39m\n\u001b[1;32m    196\u001b[0m         \u001b[39m\"\u001b[39m\u001b[39m is not allowed as it is a security risk.\u001b[39m\u001b[39m\"\u001b[39m\n\u001b[1;32m    197\u001b[0m     )\n\u001b[0;32m--> 199\u001b[0m SparkContext\u001b[39m.\u001b[39;49m_ensure_initialized(\u001b[39mself\u001b[39;49m, gateway\u001b[39m=\u001b[39;49mgateway, conf\u001b[39m=\u001b[39;49mconf)\n\u001b[1;32m    200\u001b[0m \u001b[39mtry\u001b[39;00m:\n\u001b[1;32m    201\u001b[0m     \u001b[39mself\u001b[39m\u001b[39m.\u001b[39m_do_init(\n\u001b[1;32m    202\u001b[0m         master,\n\u001b[1;32m    203\u001b[0m         appName,\n\u001b[0;32m   (...)\u001b[0m\n\u001b[1;32m    212\u001b[0m         udf_profiler_cls,\n\u001b[1;32m    213\u001b[0m     )\n",
      "File \u001b[0;32m~/.pyenv/versions/3.10.4/lib/python3.10/site-packages/pyspark/context.py:465\u001b[0m, in \u001b[0;36mSparkContext._ensure_initialized\u001b[0;34m(cls, instance, gateway, conf)\u001b[0m\n\u001b[1;32m    463\u001b[0m \u001b[39mwith\u001b[39;00m SparkContext\u001b[39m.\u001b[39m_lock:\n\u001b[1;32m    464\u001b[0m     \u001b[39mif\u001b[39;00m \u001b[39mnot\u001b[39;00m SparkContext\u001b[39m.\u001b[39m_gateway:\n\u001b[0;32m--> 465\u001b[0m         SparkContext\u001b[39m.\u001b[39m_gateway \u001b[39m=\u001b[39m gateway \u001b[39mor\u001b[39;00m launch_gateway(conf)\n\u001b[1;32m    466\u001b[0m         SparkContext\u001b[39m.\u001b[39m_jvm \u001b[39m=\u001b[39m SparkContext\u001b[39m.\u001b[39m_gateway\u001b[39m.\u001b[39mjvm\n\u001b[1;32m    468\u001b[0m     \u001b[39mif\u001b[39;00m instance:\n",
      "File \u001b[0;32m~/.pyenv/versions/3.10.4/lib/python3.10/site-packages/pyspark/java_gateway.py:150\u001b[0m, in \u001b[0;36mlaunch_gateway\u001b[0;34m(conf, popen_kwargs)\u001b[0m\n\u001b[1;32m    147\u001b[0m gateway\u001b[39m.\u001b[39mproc \u001b[39m=\u001b[39m proc\n\u001b[1;32m    149\u001b[0m \u001b[39m# Import the classes used by PySpark\u001b[39;00m\n\u001b[0;32m--> 150\u001b[0m java_import(gateway\u001b[39m.\u001b[39;49mjvm, \u001b[39m\"\u001b[39;49m\u001b[39morg.apache.spark.SparkConf\u001b[39;49m\u001b[39m\"\u001b[39;49m)\n\u001b[1;32m    151\u001b[0m java_import(gateway\u001b[39m.\u001b[39mjvm, \u001b[39m\"\u001b[39m\u001b[39morg.apache.spark.api.java.*\u001b[39m\u001b[39m\"\u001b[39m)\n\u001b[1;32m    152\u001b[0m java_import(gateway\u001b[39m.\u001b[39mjvm, \u001b[39m\"\u001b[39m\u001b[39morg.apache.spark.api.python.*\u001b[39m\u001b[39m\"\u001b[39m)\n",
      "File \u001b[0;32m~/.pyenv/versions/3.10.4/lib/python3.10/site-packages/py4j/java_gateway.py:181\u001b[0m, in \u001b[0;36mjava_import\u001b[0;34m(jvm_view, import_str)\u001b[0m\n\u001b[1;32m    177\u001b[0m command \u001b[39m=\u001b[39m proto\u001b[39m.\u001b[39mJVMVIEW_COMMAND_NAME \u001b[39m+\u001b[39m proto\u001b[39m.\u001b[39mJVM_IMPORT_SUB_COMMAND_NAME \u001b[39m+\u001b[39m\\\n\u001b[1;32m    178\u001b[0m     jvm_view\u001b[39m.\u001b[39m_id \u001b[39m+\u001b[39m \u001b[39m\"\u001b[39m\u001b[39m\\n\u001b[39;00m\u001b[39m\"\u001b[39m \u001b[39m+\u001b[39m escape_new_line(import_str) \u001b[39m+\u001b[39m \u001b[39m\"\u001b[39m\u001b[39m\\n\u001b[39;00m\u001b[39m\"\u001b[39m \u001b[39m+\u001b[39m\\\n\u001b[1;32m    179\u001b[0m     proto\u001b[39m.\u001b[39mEND_COMMAND_PART\n\u001b[1;32m    180\u001b[0m answer \u001b[39m=\u001b[39m gateway_client\u001b[39m.\u001b[39msend_command(command)\n\u001b[0;32m--> 181\u001b[0m return_value \u001b[39m=\u001b[39m get_return_value(answer, gateway_client, \u001b[39mNone\u001b[39;49;00m, \u001b[39mNone\u001b[39;49;00m)\n\u001b[1;32m    182\u001b[0m \u001b[39mreturn\u001b[39;00m return_value\n",
      "File \u001b[0;32m~/.pyenv/versions/3.10.4/lib/python3.10/site-packages/py4j/protocol.py:334\u001b[0m, in \u001b[0;36mget_return_value\u001b[0;34m(answer, gateway_client, target_id, name)\u001b[0m\n\u001b[1;32m    330\u001b[0m             \u001b[39mraise\u001b[39;00m Py4JError(\n\u001b[1;32m    331\u001b[0m                 \u001b[39m\"\u001b[39m\u001b[39mAn error occurred while calling \u001b[39m\u001b[39m{0}\u001b[39;00m\u001b[39m{1}\u001b[39;00m\u001b[39m{2}\u001b[39;00m\u001b[39m. Trace:\u001b[39m\u001b[39m\\n\u001b[39;00m\u001b[39m{3}\u001b[39;00m\u001b[39m\\n\u001b[39;00m\u001b[39m\"\u001b[39m\u001b[39m.\u001b[39m\n\u001b[1;32m    332\u001b[0m                 \u001b[39mformat\u001b[39m(target_id, \u001b[39m\"\u001b[39m\u001b[39m.\u001b[39m\u001b[39m\"\u001b[39m, name, value))\n\u001b[1;32m    333\u001b[0m     \u001b[39melse\u001b[39;00m:\n\u001b[0;32m--> 334\u001b[0m         \u001b[39mraise\u001b[39;00m Py4JError(\n\u001b[1;32m    335\u001b[0m             \u001b[39m\"\u001b[39m\u001b[39mAn error occurred while calling \u001b[39m\u001b[39m{0}\u001b[39;00m\u001b[39m{1}\u001b[39;00m\u001b[39m{2}\u001b[39;00m\u001b[39m\"\u001b[39m\u001b[39m.\u001b[39m\n\u001b[1;32m    336\u001b[0m             \u001b[39mformat\u001b[39m(target_id, \u001b[39m\"\u001b[39m\u001b[39m.\u001b[39m\u001b[39m\"\u001b[39m, name))\n\u001b[1;32m    337\u001b[0m \u001b[39melse\u001b[39;00m:\n\u001b[1;32m    338\u001b[0m     \u001b[39mtype\u001b[39m \u001b[39m=\u001b[39m answer[\u001b[39m1\u001b[39m]\n",
      "\u001b[0;31mPy4JError\u001b[0m: An error occurred while calling None.None"
     ]
    }
   ],
   "source": [
    "spark = pyspark.sql.SparkSession.builder.appName(\n",
    "    \"dataset_view_demo\"\n",
    ").getOrCreate()"
   ]
  },
  {
   "cell_type": "code",
   "execution_count": 3,
   "metadata": {},
   "outputs": [],
   "source": [
    "# download dataset to use\n",
    "DATASET_TO_USE = \"Tweets-100M.csv\"\n",
    "DATASET_PATH = fetch_dataset(DATASET_TO_USE)"
   ]
  },
  {
   "cell_type": "code",
   "execution_count": 5,
   "metadata": {},
   "outputs": [
    {
     "name": "stdout",
     "output_type": "stream",
     "text": [
      "+--------------------+-----------------+----------------------------+--------------+-------------------------+--------------+----------------------+---------------+-------------------+-------------+--------------------+-----------+--------------------+--------------------+--------------------+\n",
      "|            tweet_id|airline_sentiment|airline_sentiment_confidence|negativereason|negativereason_confidence|       airline|airline_sentiment_gold|           name|negativereason_gold|retweet_count|                text|tweet_coord|       tweet_created|      tweet_location|       user_timezone|\n",
      "+--------------------+-----------------+----------------------------+--------------+-------------------------+--------------+----------------------+---------------+-------------------+-------------+--------------------+-----------+--------------------+--------------------+--------------------+\n",
      "|                   0|          neutral|                         1.0|          null|                     null|Virgin America|                  null|        cairdin|               null|            0|@VirginAmerica Wh...|       null|2015-02-24 11:35:...|                null|Eastern Time (US ...|\n",
      "|                   1|         positive|                      0.3486|          null|                      0.0|Virgin America|                  null|       jnardino|               null|            0|@VirginAmerica pl...|       null|2015-02-24 11:15:...|                null|Pacific Time (US ...|\n",
      "|                   2|          neutral|                      0.6837|          null|                     null|Virgin America|                  null|     yvonnalynn|               null|            0|@VirginAmerica I ...|       null|2015-02-24 11:15:...|           Lets Play|Central Time (US ...|\n",
      "|                   3|         negative|                         1.0|    Bad Flight|                   0.7033|Virgin America|                  null|       jnardino|               null|            0|\"@VirginAmerica i...|       null|2015-02-24 11:15:...|                null|Pacific Time (US ...|\n",
      "|                   4|         negative|                         1.0|    Can't Tell|                      1.0|Virgin America|                  null|       jnardino|               null|            0|@VirginAmerica an...|       null|2015-02-24 11:14:...|                null|Pacific Time (US ...|\n",
      "|                   5|         negative|                         1.0|    Can't Tell|                   0.6842|Virgin America|                  null|       jnardino|               null|            0|@VirginAmerica se...|       null|                null|                null|                null|\n",
      "|it's really the o...|             null|        2015-02-24 11:14:...|          null|     Pacific Time (US ...|          null|                  null|           null|               null|         null|                null|       null|                null|                null|                null|\n",
      "|                   6|         positive|                      0.6745|          null|                      0.0|Virgin America|                  null|     cjmcginnis|               null|            0|@VirginAmerica ye...|       null|2015-02-24 11:13:...|    San Francisco CA|Pacific Time (US ...|\n",
      "|                   7|          neutral|                       0.634|          null|                     null|Virgin America|                  null|          pilot|               null|            0|@VirginAmerica Re...|       null|2015-02-24 11:12:...|         Los Angeles|Pacific Time (US ...|\n",
      "|                   8|         positive|                      0.6559|          null|                     null|Virgin America|                  null|       dhepburn|               null|            0|@virginamerica We...|       null|2015-02-24 11:11:...|           San Diego|Pacific Time (US ...|\n",
      "|                   9|         positive|                         1.0|          null|                     null|Virgin America|                  null|     YupitsTate|               null|            0|@VirginAmerica it...|       null|2015-02-24 10:53:...|         Los Angeles|Eastern Time (US ...|\n",
      "|                  10|          neutral|                      0.6769|          null|                      0.0|Virgin America|                  null|idk_but_youtube|               null|            0|@VirginAmerica di...|       null|2015-02-24 10:48:...|     1/1 loner squad|Eastern Time (US ...|\n",
      "|                  11|         positive|                         1.0|          null|                     null|Virgin America|                  null|   HyperCamiLax|               null|            0|@VirginAmerica I ...|       null|2015-02-24 10:30:...|                 NYC|    America/New_York|\n",
      "|                  12|         positive|                         1.0|          null|                     null|Virgin America|                  null|   HyperCamiLax|               null|            0|@VirginAmerica Th...|       null|2015-02-24 10:30:...|                 NYC|    America/New_York|\n",
      "|                  13|         positive|                      0.6451|          null|                     null|Virgin America|                  null|   mollanderson|               null|            0|@VirginAmerica @v...|       null|2015-02-24 10:21:...|                null|Eastern Time (US ...|\n",
      "|                  14|         positive|                         1.0|          null|                     null|Virgin America|                  null|       sjespers|               null|            0|@VirginAmerica Th...|       null|2015-02-24 10:15:...|   San Francisco, CA|Pacific Time (US ...|\n",
      "|                  15|         negative|                      0.6842|   Late Flight|                   0.3684|Virgin America|                  null|smartwatermelon|               null|            0|@VirginAmerica SF...|       null|2015-02-24 10:01:...|       palo alto, ca|Pacific Time (US ...|\n",
      "|                  16|         positive|                         1.0|          null|                     null|Virgin America|                  null|  ItzBrianHunty|               null|            0|@VirginAmerica So...|       null|2015-02-24 09:42:...|         west covina|Pacific Time (US ...|\n",
      "|                  17|         negative|                         1.0|    Bad Flight|                      1.0|Virgin America|                  null|  heatherovieda|               null|            0|@VirginAmerica  I...|       null|2015-02-24 09:39:...|this place called...|Eastern Time (US ...|\n",
      "|                  18|         positive|                         1.0|          null|                     null|Virgin America|                  null|   thebrandiray|               null|            0|I ❤️ flying @Virg...|       null|2015-02-24 09:15:...|Somewhere celebra...|Atlantic Time (Ca...|\n",
      "+--------------------+-----------------+----------------------------+--------------+-------------------------+--------------+----------------------+---------------+-------------------+-------------+--------------------+-----------+--------------------+--------------------+--------------------+\n",
      "only showing top 20 rows\n",
      "\n"
     ]
    },
    {
     "name": "stderr",
     "output_type": "stream",
     "text": [
      "                                                                                \r"
     ]
    }
   ],
   "source": [
    "# load dataset to dataframe\n",
    "dataset_df = spark.read.option(\"header\", True).option(\"escape\", '\"').format(\"csv\").load(str(DATASET_PATH))\n",
    "dataset_df.show()\n",
    "\n",
    "# save dataset to Avro\n",
    "AVRO_DATASET_PATH = DATASET_PATH.with_suffix(\".avro\")\n",
    "dataset_df.write.format(\"avro\").save(str(AVRO_DATASET_PATH), mode=\"overwrite\")"
   ]
  },
  {
   "cell_type": "markdown",
   "metadata": {},
   "source": [
    "## Sort/Select Demo\n",
    "The following demo shows how to run select queries on several columns of the dataset. This mimics the operations that *will* be used in the dataset view page of Cleanlab Studio.\n",
    "\n",
    "#### Notes\n",
    "Spark does not support offsets, so we have to add a monotonically increasing ID on our sorted table and do a filter to achieve a limit + offset operation."
   ]
  },
  {
   "cell_type": "markdown",
   "metadata": {},
   "source": [
    "### Single Column Sort + Select"
   ]
  },
  {
   "cell_type": "code",
   "execution_count": 17,
   "metadata": {},
   "outputs": [
    {
     "name": "stdout",
     "output_type": "stream",
     "text": [
      "+--------------------+--------------------+----------------------------+--------------------+-------------------------+--------------------+----------------------+-------------+-------------------+-------------+--------------------+--------------------+-------------+--------------------+------------------+---------+\n",
      "|            tweet_id|   airline_sentiment|airline_sentiment_confidence|      negativereason|negativereason_confidence|             airline|airline_sentiment_gold|         name|negativereason_gold|retweet_count|                text|         tweet_coord|tweet_created|      tweet_location|     user_timezone|__sort_id|\n",
      "+--------------------+--------------------+----------------------------+--------------------+-------------------------+--------------------+----------------------+-------------+-------------------+-------------+--------------------+--------------------+-------------+--------------------+------------------+---------+\n",
      "|Please see a JetB...|                null|        2015-02-20 06:26:...|        New York, NY|     Central Time (US ...|                null|                  null|         null|               null|         null|                null|                null|         null|                null|              null|     8000|\n",
      "|              183952|             neutral|                         1.0|                null|                     null|               Delta|                  null| royalsherman|               null|            0|\"@JetBlue I want ...| can I please ent...|         null|2015-02-19 14:45:...|              null|     8001|\n",
      "|              184165|            negative|                      0.6598|Customer Service ...|                   0.3711|               Delta|                  null|   Bill_Faulk|               null|            0|\"@JetBlue I put i...| click update and...|         null|2015-02-18 16:56:...|#ManorvilleInExile|     8002|\n",
      "|              184216|            negative|                         1.0|        Lost Luggage|                   0.8436|               Delta|              negative| edgarsantana|       Lost Luggage|         null|                null|                null|         null|                null|              null|     8003|\n",
      "|    Damaged Luggage\"|                   0|        @JetBlue I am hea...|                null|     2015-02-18 14:57:...|ÜT: 40.96513,-73....|  Eastern Time (US ...|         null|               null|         null|                null|                null|         null|                null|              null|     8004|\n",
      "|              184535|            negative|                         1.0|Customer Service ...|                      1.0|               Delta|                  null|     phil0616|               null|            0|           @JetBlue |                null|         null|                null|              null|     8005|\n",
      "|But if customer s...|                null|        2015-02-17 13:27:...|        Florida, USA|                     null|                null|                  null|         null|               null|         null|                null|                null|         null|                null|              null|     8006|\n",
      "|              184542|            negative|                       0.679|          Can't Tell|                   0.3624|               Delta|                  null|     phil0616|               null|            0|           @JetBlue |                null|         null|                null|              null|     8007|\n",
      "|    Apparently not.\"|                null|        2015-02-17 13:12:...|        Florida, USA|                     null|                null|                  null|         null|               null|         null|                null|                null|         null|                null|              null|     8008|\n",
      "|              184544|            negative|                         1.0|Customer Service ...|                   0.6652|               Delta|                  null|    billykaos|               null|            0|\"@JetBlue continu...|                null|         null|                null|              null|     8009|\n",
      "|regardless of how...|                null|                        null|                null|                     null|                null|                  null|         null|               null|         null|                null|                null|         null|                null|              null|     8010|\n",
      "|hint: the end of it\"|          [0.0, 0.0]|        2015-02-17 13:06:...|              Boston|     Eastern Time (US ...|                null|                  null|         null|               null|         null|                null|                null|         null|                null|              null|     8011|\n",
      "|              184705|             neutral|                      0.6354|                null|                     null|          US Airways|                  null| sundialtours|               null|            0|\"@USAirways \"\"Air...|                null|         null|                null|              null|     8012|\n",
      "|Keep up the good ...| this is where Ce...|                        null|2015-02-24 09:48:...|              Astoria, OR|             Tijuana|                  null|         null|               null|         null|                null|                null|         null|                null|              null|     8013|\n",
      "|              184733|             neutral|                         1.0|                null|                     null|          US Airways|                  null|  JenRomanoff|               null|            0|@USAirways to my ...|                null|         null|                null|              null|     8014|\n",
      "|I just used the w...|                null|        2015-02-24 08:55:...|                null|     Eastern Time (US ...|                null|                  null|         null|               null|         null|                null|                null|         null|                null|              null|     8015|\n",
      "|              184747|             neutral|                         1.0|                null|                     null|          US Airways|                  null|oliviahaymond|               null|            0|\"@USAirways Is th...|         here... 👀\"|         null|2015-02-24 08:13:...|    Tampa, Florida|     8016|\n",
      "|              184851|            negative|                         1.0|Flight Booking Pr...|                   0.6601|          US Airways|                  null| worldwideweg|               null|            0|@USAirways  Inste...|                null|         null|                null|              null|     8017|\n",
      "|-- My request to ...|                null|        2015-02-23 20:54:...|                null|                     null|                null|                  null|         null|               null|         null|                null|                null|         null|                null|              null|     8018|\n",
      "|              184879|            negative|                         1.0|Customer Service ...|                      1.0|          US Airways|                  null|      lmeckPR|               null|            0|@USAirways cust s...|                null|         null|                null|              null|     8019|\n",
      "+--------------------+--------------------+----------------------------+--------------------+-------------------------+--------------------+----------------------+-------------+-------------------+-------------+--------------------+--------------------+-------------+--------------------+------------------+---------+\n",
      "only showing top 20 rows\n",
      "\n"
     ]
    }
   ],
   "source": [
    "# load spark table from avro\n",
    "dataset_table = spark.read.format(\"avro\").load(str(AVRO_DATASET_PATH))\n",
    "\n",
    "# sort on a single column, and select N samples from an offset\n",
    "col_name = \"tweet_created\"\n",
    "num_samples = 100\n",
    "offset = 8000\n",
    "\n",
    "sorted_table = dataset_table.sort(col_name)\n",
    "sorted_table = sorted_table.withColumn(\"__sort_id\", pyspark.sql.functions.monotonically_increasing_id())\n",
    "res = sorted_table.where(pyspark.sql.functions.col(\"__sort_id\").between(offset, offset + num_samples))\n",
    "res.show()"
   ]
  },
  {
   "cell_type": "markdown",
   "metadata": {},
   "source": [
    "### Multi-column Sort + Select"
   ]
  },
  {
   "cell_type": "code",
   "execution_count": 18,
   "metadata": {},
   "outputs": [
    {
     "name": "stdout",
     "output_type": "stream",
     "text": [
      "+--------+-----------------+----------------------------+--------------------+-------------------------+---------+----------------------+---------------+-------------------+-------------+--------------------+--------------------+-------------+--------------------+--------------------+---------+\n",
      "|tweet_id|airline_sentiment|airline_sentiment_confidence|      negativereason|negativereason_confidence|  airline|airline_sentiment_gold|           name|negativereason_gold|retweet_count|                text|         tweet_coord|tweet_created|      tweet_location|       user_timezone|__sort_id|\n",
      "+--------+-----------------+----------------------------+--------------------+-------------------------+---------+----------------------+---------------+-------------------+-------------+--------------------+--------------------+-------------+--------------------+--------------------+---------+\n",
      "|  324800|         negative|                         1.0|Customer Service ...|                      1.0|   United|                  null|     KatieJelen|               null|            0|\"@united Your \"\"L...| but thanks. Mayb...|         null|2015-02-20 16:46:...|Los Angeles, CA (...|     8000|\n",
      "|  324852|         negative|                         1.0|         Late Flight|                      1.0|   United|                  null|     RegYohanan|               null|            1|@united worst AIR...|                null|         null|                null|                null|     8001|\n",
      "|   32489|         negative|                         1.0|          Can't Tell|                   0.3587|   United|                  null|      abecohenj|               null|            0|\"@united playing ...| it should only b...|         null|2015-02-19 18:15:...|                null|     8002|\n",
      "|  325006|         negative|                         1.0|          Can't Tell|       0.6629999999999999|   United|                  null|     riad_otoum|               null|            0|@united I can tel...|                null|         null|                null|                null|     8003|\n",
      "|  325229|         negative|                       0.922|Customer Service ...|                   0.4513|   United|              negative|     Mosborne13|   Cancelled Flight|         null|                null|                null|         null|                null|                null|     8004|\n",
      "|  325289|         negative|                         1.0|          Can't Tell|                   0.3587|   United|                  null|      abecohenj|               null|            0|\"@united playing ...| it should only b...|         null|2015-02-19 18:15:...|                null|     8005|\n",
      "|  325353|         negative|                         1.0|         Late Flight|                      1.0|   United|                  null|     ellenrayrx|               null|            0|@united What happ...|                null|         null|                null|                null|     8006|\n",
      "|   32553|         negative|                         1.0|         Late Flight|                      1.0|   United|                  null|     ellenrayrx|               null|            0|@united What happ...|                null|         null|                null|                null|     8007|\n",
      "|  325605|         negative|                         1.0|          Can't Tell|                   0.6753|   United|                  null|  2cJustice4all|               null|            0|@united : Unhappy...|                null|         null|                null|                null|     8008|\n",
      "|  325743|         negative|                      0.3546|         Late Flight|                   0.3546|   United|                  null| OneKLutzyNinja|               null|            0|@united It was qu...|                null|         null|                null|                null|     8009|\n",
      "|  325996|         negative|                         1.0|Customer Service ...|                   0.6688|   United|                  null|         urno12|               null|            0|@united it has no...|                null|         null|                null|                null|     8010|\n",
      "|  326098|         negative|                         1.0|Customer Service ...|                      1.0|   United|                  null|1MisterHandsome|               null|            0|@united You allow...|                null|         null|                null|                null|     8011|\n",
      "|  326152|         negative|                         1.0|          Can't Tell|                   0.3568|   United|                  null|      annricord|               null|            0|@united @annricor...|                null|         null|                null|                null|     8012|\n",
      "|  326225|         negative|                         1.0|         Late Flight|                   0.6815|   United|                  null|        kmensah|               null|            0|@united My flight...|                null|         null|                null|                null|     8013|\n",
      "|  326375|         negative|                      0.3456|          Can't Tell|                   0.3456|   United|                  null|      meracross|               null|            0|@united's first-c...|                null|         null|                null|                null|     8014|\n",
      "|  326589|         negative|                         1.0|        Lost Luggage|                      1.0|Southwest|                  null|   amymiller305|               null|            0|@SouthwestAir hey...|                null|         null|                null|                null|     8015|\n",
      "|  326717|         negative|                         1.0|          Can't Tell|                   0.3506|Southwest|                  null|  CravenMorhead|               null|            0|@SouthwestAir 10+...|                null|         null|                null|                null|     8016|\n",
      "|  326849|         negative|                         1.0|Flight Attendant ...|                    0.348|Southwest|                  null|   steve_holder|               null|            0|\"@SouthwestAir RT...| that system is a...|         null|2015-02-23 05:28:...|                null|     8017|\n",
      "|  326903|         negative|                      0.3437|Flight Booking Pr...|                   0.3437|Southwest|                  null|    ClinicPolly|               null|            0|@SouthwestAir tha...|                null|         null|                null|                null|     8018|\n",
      "|  327148|         negative|                      0.6515|         Late Flight|                   0.6515|Southwest|                  null|  scoobydoo9749|               null|            0|\"@SouthwestAir \"\"...| no I understand ...|         null|2015-02-21 21:53:...|     Tallahassee, FL|     8019|\n",
      "+--------+-----------------+----------------------------+--------------------+-------------------------+---------+----------------------+---------------+-------------------+-------------+--------------------+--------------------+-------------+--------------------+--------------------+---------+\n",
      "only showing top 20 rows\n",
      "\n"
     ]
    }
   ],
   "source": [
    "# load spark table from avro\n",
    "dataset_table = spark.read.format(\"avro\").load(str(AVRO_DATASET_PATH))\n",
    "\n",
    "# sort on multiple columns, and select N samples from an offset\n",
    "col_names = [\"tweet_created\", \"airline_sentiment\", \"tweet_id\"]\n",
    "num_samples = 100\n",
    "offset = 8000\n",
    "\n",
    "sorted_table = dataset_table.sort(col_names)\n",
    "sorted_table = sorted_table.withColumn(\"__sort_id\", pyspark.sql.functions.monotonically_increasing_id())\n",
    "res = sorted_table.where(pyspark.sql.functions.col(\"__sort_id\").between(offset, offset + num_samples))\n",
    "res.show()"
   ]
  },
  {
   "cell_type": "markdown",
   "metadata": {},
   "source": [
    "### Single Column Filter + Sort + Select"
   ]
  },
  {
   "cell_type": "code",
   "execution_count": null,
   "metadata": {},
   "outputs": [
    {
     "name": "stdout",
     "output_type": "stream",
     "text": [
      "+--------+-----------------+----------------------------+--------------+-------------------------+-------+----------------------+----------+-------------------+-------------+-----------------+-----------+--------------------+--------------+-------------+---------+\n",
      "|tweet_id|airline_sentiment|airline_sentiment_confidence|negativereason|negativereason_confidence|airline|airline_sentiment_gold|      name|negativereason_gold|retweet_count|             text|tweet_coord|       tweet_created|tweet_location|user_timezone|__sort_id|\n",
      "+--------+-----------------+----------------------------+--------------+-------------------------+-------+----------------------+----------+-------------------+-------------+-----------------+-----------+--------------------+--------------+-------------+---------+\n",
      "|    4117|          neutral|                         1.0|          null|                     null| United|                  null|boombaby55|               null|            0|@united no thanks|       null|2015-02-17 14:37:...|     san diego|         null|     8000|\n",
      "|   18757|          neutral|                         1.0|          null|                     null| United|                  null|boombaby55|               null|            0|@united no thanks|       null|2015-02-17 14:37:...|     san diego|         null|     8001|\n",
      "|   33397|          neutral|                         1.0|          null|                     null| United|                  null|boombaby55|               null|            0|@united no thanks|       null|2015-02-17 14:37:...|     san diego|         null|     8002|\n",
      "|   48037|          neutral|                         1.0|          null|                     null| United|                  null|boombaby55|               null|            0|@united no thanks|       null|2015-02-17 14:37:...|     san diego|         null|     8003|\n",
      "|  121237|          neutral|                         1.0|          null|                     null| United|                  null|boombaby55|               null|            0|@united no thanks|       null|2015-02-17 14:37:...|     san diego|         null|     8004|\n",
      "|  135877|          neutral|                         1.0|          null|                     null| United|                  null|boombaby55|               null|            0|@united no thanks|       null|2015-02-17 14:37:...|     san diego|         null|     8005|\n",
      "|  150517|          neutral|                         1.0|          null|                     null| United|                  null|boombaby55|               null|            0|@united no thanks|       null|2015-02-17 14:37:...|     san diego|         null|     8006|\n",
      "|  165157|          neutral|                         1.0|          null|                     null| United|                  null|boombaby55|               null|            0|@united no thanks|       null|2015-02-17 14:37:...|     san diego|         null|     8007|\n",
      "|  355477|          neutral|                         1.0|          null|                     null| United|                  null|boombaby55|               null|            0|@united no thanks|       null|2015-02-17 14:37:...|     san diego|         null|     8008|\n",
      "|  370117|          neutral|                         1.0|          null|                     null| United|                  null|boombaby55|               null|            0|@united no thanks|       null|2015-02-17 14:37:...|     san diego|         null|     8009|\n",
      "|  384757|          neutral|                         1.0|          null|                     null| United|                  null|boombaby55|               null|            0|@united no thanks|       null|2015-02-17 14:37:...|     san diego|         null|     8010|\n",
      "|  399397|          neutral|                         1.0|          null|                     null| United|                  null|boombaby55|               null|            0|@united no thanks|       null|2015-02-17 14:37:...|     san diego|         null|     8011|\n",
      "|   62677|          neutral|                         1.0|          null|                     null| United|                  null|boombaby55|               null|            0|@united no thanks|       null|2015-02-17 14:37:...|     san diego|         null|     8012|\n",
      "|   77317|          neutral|                         1.0|          null|                     null| United|                  null|boombaby55|               null|            0|@united no thanks|       null|2015-02-17 14:37:...|     san diego|         null|     8013|\n",
      "|   91957|          neutral|                         1.0|          null|                     null| United|                  null|boombaby55|               null|            0|@united no thanks|       null|2015-02-17 14:37:...|     san diego|         null|     8014|\n",
      "|  106597|          neutral|                         1.0|          null|                     null| United|                  null|boombaby55|               null|            0|@united no thanks|       null|2015-02-17 14:37:...|     san diego|         null|     8015|\n",
      "|  296917|          neutral|                         1.0|          null|                     null| United|                  null|boombaby55|               null|            0|@united no thanks|       null|2015-02-17 14:37:...|     san diego|         null|     8016|\n",
      "|  311557|          neutral|                         1.0|          null|                     null| United|                  null|boombaby55|               null|            0|@united no thanks|       null|2015-02-17 14:37:...|     san diego|         null|     8017|\n",
      "|  326197|          neutral|                         1.0|          null|                     null| United|                  null|boombaby55|               null|            0|@united no thanks|       null|2015-02-17 14:37:...|     san diego|         null|     8018|\n",
      "|  340837|          neutral|                         1.0|          null|                     null| United|                  null|boombaby55|               null|            0|@united no thanks|       null|2015-02-17 14:37:...|     san diego|         null|     8019|\n",
      "+--------+-----------------+----------------------------+--------------+-------------------------+-------+----------------------+----------+-------------------+-------------+-----------------+-----------+--------------------+--------------+-------------+---------+\n",
      "only showing top 20 rows\n",
      "\n"
     ]
    }
   ],
   "source": [
    "# load spark table from avro\n",
    "dataset_table = spark.read.format(\"avro\").load(str(AVRO_DATASET_PATH))\n",
    "\n",
    "# filter on a single column, sort on a single column, and select N samples from an offset\n",
    "filter_col_name = \"airline_sentiment\"\n",
    "filter_col_value = \"neutral\"\n",
    "sort_col_name = \"tweet_created\"\n",
    "num_samples = 100\n",
    "offset = 8000\n",
    "\n",
    "filtered_table = dataset_table.filter(pyspark.sql.functions.col(filter_col_name).eqNullSafe(filter_col_value))\n",
    "sorted_table = filtered_table.sort(col_name)\n",
    "sorted_table = sorted_table.withColumn(\"__sort_id\", pyspark.sql.functions.monotonically_increasing_id())\n",
    "res = sorted_table.where(pyspark.sql.functions.col(\"__sort_id\").between(offset, offset + num_samples))\n",
    "res.show()"
   ]
  },
  {
   "cell_type": "markdown",
   "metadata": {},
   "source": [
    "### Mutli Column Filter + Sort + Select"
   ]
  },
  {
   "cell_type": "code",
   "execution_count": 23,
   "metadata": {},
   "outputs": [
    {
     "name": "stdout",
     "output_type": "stream",
     "text": [
      "+--------+-----------------+----------------------------+--------------+-------------------------+----------+----------------------+------------+-------------------+-------------+--------------------+-----------+--------------------+--------------+-------------+---------+\n",
      "|tweet_id|airline_sentiment|airline_sentiment_confidence|negativereason|negativereason_confidence|   airline|airline_sentiment_gold|        name|negativereason_gold|retweet_count|                text|tweet_coord|       tweet_created|tweet_location|user_timezone|__sort_id|\n",
      "+--------+-----------------+----------------------------+--------------+-------------------------+----------+----------------------+------------+-------------------+-------------+--------------------+-----------+--------------------+--------------+-------------+---------+\n",
      "|  333047|         positive|                         1.0|          null|                     null|US Airways|                  null|pamela_moats|               null|            0|@USAirways @Ameri...|       null|2015-02-20 04:25:...|          null|         null|     8000|\n",
      "|  347687|         positive|                         1.0|          null|                     null|US Airways|                  null|pamela_moats|               null|            0|@USAirways @Ameri...|       null|2015-02-20 04:25:...|          null|         null|     8001|\n",
      "|  362327|         positive|                         1.0|          null|                     null|US Airways|                  null|pamela_moats|               null|            0|@USAirways @Ameri...|       null|2015-02-20 04:25:...|          null|         null|     8002|\n",
      "|  376967|         positive|                         1.0|          null|                     null|US Airways|                  null|pamela_moats|               null|            0|@USAirways @Ameri...|       null|2015-02-20 04:25:...|          null|         null|     8003|\n",
      "|  391607|         positive|                         1.0|          null|                     null|US Airways|                  null|pamela_moats|               null|            0|@USAirways @Ameri...|       null|2015-02-20 04:25:...|          null|         null|     8004|\n",
      "|   40247|         positive|                         1.0|          null|                     null|US Airways|                  null|pamela_moats|               null|            0|@USAirways @Ameri...|       null|2015-02-20 04:25:...|          null|         null|     8005|\n",
      "|  406247|         positive|                         1.0|          null|                     null|US Airways|                  null|pamela_moats|               null|            0|@USAirways @Ameri...|       null|2015-02-20 04:25:...|          null|         null|     8006|\n",
      "|  420887|         positive|                         1.0|          null|                     null|US Airways|                  null|pamela_moats|               null|            0|@USAirways @Ameri...|       null|2015-02-20 04:25:...|          null|         null|     8007|\n",
      "|  435527|         positive|                         1.0|          null|                     null|US Airways|                  null|pamela_moats|               null|            0|@USAirways @Ameri...|       null|2015-02-20 04:25:...|          null|         null|     8008|\n",
      "|   54887|         positive|                         1.0|          null|                     null|US Airways|                  null|pamela_moats|               null|            0|@USAirways @Ameri...|       null|2015-02-20 04:25:...|          null|         null|     8009|\n",
      "|   69527|         positive|                         1.0|          null|                     null|US Airways|                  null|pamela_moats|               null|            0|@USAirways @Ameri...|       null|2015-02-20 04:25:...|          null|         null|     8010|\n",
      "|   84167|         positive|                         1.0|          null|                     null|US Airways|                  null|pamela_moats|               null|            0|@USAirways @Ameri...|       null|2015-02-20 04:25:...|          null|         null|     8011|\n",
      "|   98807|         positive|                         1.0|          null|                     null|US Airways|                  null|pamela_moats|               null|            0|@USAirways @Ameri...|       null|2015-02-20 04:25:...|          null|         null|     8012|\n",
      "|  110613|         positive|                         1.0|          null|                     null|     Delta|                  null|  DMenachery|               null|            0|@JetBlue Big than...|       null|2015-02-20 04:43:...|          null|         null|     8013|\n",
      "|  125253|         positive|                         1.0|          null|                     null|     Delta|                  null|  DMenachery|               null|            0|@JetBlue Big than...|       null|2015-02-20 04:43:...|          null|         null|     8014|\n",
      "|  139893|         positive|                         1.0|          null|                     null|     Delta|                  null|  DMenachery|               null|            0|@JetBlue Big than...|       null|2015-02-20 04:43:...|          null|         null|     8015|\n",
      "|  154533|         positive|                         1.0|          null|                     null|     Delta|                  null|  DMenachery|               null|            0|@JetBlue Big than...|       null|2015-02-20 04:43:...|          null|         null|     8016|\n",
      "|  169173|         positive|                         1.0|          null|                     null|     Delta|                  null|  DMenachery|               null|            0|@JetBlue Big than...|       null|2015-02-20 04:43:...|          null|         null|     8017|\n",
      "|  183813|         positive|                         1.0|          null|                     null|     Delta|                  null|  DMenachery|               null|            0|@JetBlue Big than...|       null|2015-02-20 04:43:...|          null|         null|     8018|\n",
      "|  198453|         positive|                         1.0|          null|                     null|     Delta|                  null|  DMenachery|               null|            0|@JetBlue Big than...|       null|2015-02-20 04:43:...|          null|         null|     8019|\n",
      "+--------+-----------------+----------------------------+--------------+-------------------------+----------+----------------------+------------+-------------------+-------------+--------------------+-----------+--------------------+--------------+-------------+---------+\n",
      "only showing top 20 rows\n",
      "\n"
     ]
    }
   ],
   "source": [
    "# load spark table from avro\n",
    "dataset_table = spark.read.format(\"avro\").load(str(AVRO_DATASET_PATH))\n",
    "\n",
    "# filter on a multiple columns, sort on multiple columns, and select N samples from an offset\n",
    "filter_col_names = [\"airline_sentiment\", \"user_timezone\"]\n",
    "filter_col_values = [\"positive\", None]\n",
    "sort_col_names = [\"tweet_created\", \"airline_sentiment\", \"tweet_id\"]\n",
    "num_samples = 100\n",
    "offset = 8000\n",
    "\n",
    "filtered_table = dataset_table.filter(\n",
    "    pyspark.sql.functions.col(filter_col_names[0]).eqNullSafe(filter_col_values[0])\n",
    ").filter(\n",
    "    pyspark.sql.functions.col(filter_col_names[1]).eqNullSafe(filter_col_values[1]),\n",
    ")\n",
    "sorted_table = filtered_table.sort(sort_col_names)\n",
    "sorted_table = sorted_table.withColumn(\"__sort_id\", pyspark.sql.functions.monotonically_increasing_id())\n",
    "res = sorted_table.where(pyspark.sql.functions.col(\"__sort_id\").between(offset, offset + num_samples))\n",
    "res.show()"
   ]
  }
 ],
 "metadata": {
  "kernelspec": {
   "display_name": "Python 3.10.4 64-bit ('3.10.4')",
   "language": "python",
   "name": "python3"
  },
  "language_info": {
   "codemirror_mode": {
    "name": "ipython",
    "version": 3
   },
   "file_extension": ".py",
   "mimetype": "text/x-python",
   "name": "python",
   "nbconvert_exporter": "python",
   "pygments_lexer": "ipython3",
   "version": "3.10.4"
  },
  "orig_nbformat": 4,
  "vscode": {
   "interpreter": {
    "hash": "0c352b5f43b626817a3ee00531d8acb728eb3c04bba5cd7e8d5b5c36e507dff1"
   }
  }
 },
 "nbformat": 4,
 "nbformat_minor": 2
}
