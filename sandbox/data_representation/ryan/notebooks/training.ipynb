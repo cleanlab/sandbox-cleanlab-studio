{
 "cells": [
  {
   "cell_type": "markdown",
   "metadata": {},
   "source": [
    "# Training Demo\n",
    "Demonstrates reading a dataset table (from Avro) and writing Cleanlab columns (both to Avro and to Parquet).\n",
    "\n",
    "Cleanlab columns are split into separate files by analysis type (for this example, cleanlab and OOD)"
   ]
  },
  {
   "cell_type": "code",
   "execution_count": 14,
   "metadata": {},
   "outputs": [
    {
     "name": "stdout",
     "output_type": "stream",
     "text": [
      "The autoreload extension is already loaded. To reload it, use:\n",
      "  %reload_ext autoreload\n"
     ]
    }
   ],
   "source": [
    "%load_ext autoreload\n",
    "%autoreload 2\n",
    "\n",
    "import os\n",
    "import pathlib\n",
    "import shutil\n",
    "from typing import Iterator\n",
    "\n",
    "import pyspark.sql\n",
    "import pyspark.sql.functions\n",
    "\n",
    "import sys; sys.path.insert(0, \"../src/\")\n",
    "from random_cleanlab_columns import generate_random_ood_columns, generate_random_cleanlab_columns\n",
    "from sample_data import DATA_DIR, fetch_dataset"
   ]
  },
  {
   "cell_type": "code",
   "execution_count": 4,
   "metadata": {},
   "outputs": [
    {
     "name": "stdout",
     "output_type": "stream",
     "text": [
      "23/02/28 22:35:50 WARN Utils: Your hostname, Ryans-MacBook-Pro-3.local resolves to a loopback address: 127.0.0.1; using 192.168.0.4 instead (on interface en0)\n",
      "23/02/28 22:35:50 WARN Utils: Set SPARK_LOCAL_IP if you need to bind to another address\n",
      ":: loading settings :: url = jar:file:/Users/ryansingman/.pyenv/versions/3.10.4/lib/python3.10/site-packages/pyspark/jars/ivy-2.5.1.jar!/org/apache/ivy/core/settings/ivysettings.xml\n"
     ]
    },
    {
     "name": "stderr",
     "output_type": "stream",
     "text": [
      "Ivy Default Cache set to: /Users/ryansingman/.ivy2/cache\n",
      "The jars for the packages stored in: /Users/ryansingman/.ivy2/jars\n",
      "org.apache.spark#spark-avro_2.12 added as a dependency\n",
      ":: resolving dependencies :: org.apache.spark#spark-submit-parent-7d91104e-6e21-4a94-b93b-3ad1e97db8c1;1.0\n",
      "\tconfs: [default]\n",
      "\tfound org.apache.spark#spark-avro_2.12;3.3.2 in central\n",
      "\tfound org.tukaani#xz;1.9 in central\n",
      "\tfound org.spark-project.spark#unused;1.0.0 in central\n",
      ":: resolution report :: resolve 134ms :: artifacts dl 3ms\n",
      "\t:: modules in use:\n",
      "\torg.apache.spark#spark-avro_2.12;3.3.2 from central in [default]\n",
      "\torg.spark-project.spark#unused;1.0.0 from central in [default]\n",
      "\torg.tukaani#xz;1.9 from central in [default]\n",
      "\t---------------------------------------------------------------------\n",
      "\t|                  |            modules            ||   artifacts   |\n",
      "\t|       conf       | number| search|dwnlded|evicted|| number|dwnlded|\n",
      "\t---------------------------------------------------------------------\n",
      "\t|      default     |   3   |   0   |   0   |   0   ||   3   |   0   |\n",
      "\t---------------------------------------------------------------------\n",
      ":: retrieving :: org.apache.spark#spark-submit-parent-7d91104e-6e21-4a94-b93b-3ad1e97db8c1\n",
      "\tconfs: [default]\n",
      "\t0 artifacts copied, 3 already retrieved (0kB/4ms)\n"
     ]
    },
    {
     "name": "stdout",
     "output_type": "stream",
     "text": [
      "23/02/28 22:35:50 WARN NativeCodeLoader: Unable to load native-hadoop library for your platform... using builtin-java classes where applicable\n"
     ]
    },
    {
     "name": "stderr",
     "output_type": "stream",
     "text": [
      "Setting default log level to \"WARN\".\n",
      "To adjust logging level use sc.setLogLevel(newLevel). For SparkR, use setLogLevel(newLevel).\n"
     ]
    },
    {
     "name": "stdout",
     "output_type": "stream",
     "text": [
      "23/02/28 22:35:51 WARN Utils: Service 'SparkUI' could not bind on port 4040. Attempting port 4041.\n"
     ]
    }
   ],
   "source": [
    "os.environ['PYSPARK_SUBMIT_ARGS'] = '--packages org.apache.spark:spark-avro_2.12:3.3.2 pyspark-shell'\n",
    "\n",
    "spark = pyspark.sql.SparkSession.builder.appName(\n",
    "    \"dataset_view_demo\"\n",
    ").getOrCreate()"
   ]
  },
  {
   "cell_type": "code",
   "execution_count": 5,
   "metadata": {},
   "outputs": [],
   "source": [
    "# download dataset to use\n",
    "DATASET_TO_USE = \"Tweets-1M.csv\"\n",
    "DATASET_PATH = fetch_dataset(DATASET_TO_USE)"
   ]
  },
  {
   "cell_type": "code",
   "execution_count": 6,
   "metadata": {},
   "outputs": [
    {
     "name": "stdout",
     "output_type": "stream",
     "text": [
      "+--------------------+-----------------+----------------------------+--------------+-------------------------+--------------+----------------------+---------------+-------------------+-------------+--------------------+-----------+--------------------+--------------------+--------------------+\n",
      "|            tweet_id|airline_sentiment|airline_sentiment_confidence|negativereason|negativereason_confidence|       airline|airline_sentiment_gold|           name|negativereason_gold|retweet_count|                text|tweet_coord|       tweet_created|      tweet_location|       user_timezone|\n",
      "+--------------------+-----------------+----------------------------+--------------+-------------------------+--------------+----------------------+---------------+-------------------+-------------+--------------------+-----------+--------------------+--------------------+--------------------+\n",
      "|                   0|          neutral|                         1.0|          null|                     null|Virgin America|                  null|        cairdin|               null|            0|@VirginAmerica Wh...|       null|2015-02-24 11:35:...|                null|Eastern Time (US ...|\n",
      "|                   1|         positive|                      0.3486|          null|                      0.0|Virgin America|                  null|       jnardino|               null|            0|@VirginAmerica pl...|       null|2015-02-24 11:15:...|                null|Pacific Time (US ...|\n",
      "|                   2|          neutral|                      0.6837|          null|                     null|Virgin America|                  null|     yvonnalynn|               null|            0|@VirginAmerica I ...|       null|2015-02-24 11:15:...|           Lets Play|Central Time (US ...|\n",
      "|                   3|         negative|                         1.0|    Bad Flight|                   0.7033|Virgin America|                  null|       jnardino|               null|            0|@VirginAmerica it...|       null|2015-02-24 11:15:...|                null|Pacific Time (US ...|\n",
      "|                   4|         negative|                         1.0|    Can't Tell|                      1.0|Virgin America|                  null|       jnardino|               null|            0|@VirginAmerica an...|       null|2015-02-24 11:14:...|                null|Pacific Time (US ...|\n",
      "|                   5|         negative|                         1.0|    Can't Tell|                   0.6842|Virgin America|                  null|       jnardino|               null|            0|@VirginAmerica se...|       null|                null|                null|                null|\n",
      "|it's really the o...|             null|        2015-02-24 11:14:...|          null|     Pacific Time (US ...|          null|                  null|           null|               null|         null|                null|       null|                null|                null|                null|\n",
      "|                   6|         positive|                      0.6745|          null|                      0.0|Virgin America|                  null|     cjmcginnis|               null|            0|@VirginAmerica ye...|       null|2015-02-24 11:13:...|    San Francisco CA|Pacific Time (US ...|\n",
      "|                   7|          neutral|                       0.634|          null|                     null|Virgin America|                  null|          pilot|               null|            0|@VirginAmerica Re...|       null|2015-02-24 11:12:...|         Los Angeles|Pacific Time (US ...|\n",
      "|                   8|         positive|                      0.6559|          null|                     null|Virgin America|                  null|       dhepburn|               null|            0|@virginamerica We...|       null|2015-02-24 11:11:...|           San Diego|Pacific Time (US ...|\n",
      "|                   9|         positive|                         1.0|          null|                     null|Virgin America|                  null|     YupitsTate|               null|            0|@VirginAmerica it...|       null|2015-02-24 10:53:...|         Los Angeles|Eastern Time (US ...|\n",
      "|                  10|          neutral|                      0.6769|          null|                      0.0|Virgin America|                  null|idk_but_youtube|               null|            0|@VirginAmerica di...|       null|2015-02-24 10:48:...|     1/1 loner squad|Eastern Time (US ...|\n",
      "|                  11|         positive|                         1.0|          null|                     null|Virgin America|                  null|   HyperCamiLax|               null|            0|@VirginAmerica I ...|       null|2015-02-24 10:30:...|                 NYC|    America/New_York|\n",
      "|                  12|         positive|                         1.0|          null|                     null|Virgin America|                  null|   HyperCamiLax|               null|            0|@VirginAmerica Th...|       null|2015-02-24 10:30:...|                 NYC|    America/New_York|\n",
      "|                  13|         positive|                      0.6451|          null|                     null|Virgin America|                  null|   mollanderson|               null|            0|@VirginAmerica @v...|       null|2015-02-24 10:21:...|                null|Eastern Time (US ...|\n",
      "|                  14|         positive|                         1.0|          null|                     null|Virgin America|                  null|       sjespers|               null|            0|@VirginAmerica Th...|       null|2015-02-24 10:15:...|   San Francisco, CA|Pacific Time (US ...|\n",
      "|                  15|         negative|                      0.6842|   Late Flight|                   0.3684|Virgin America|                  null|smartwatermelon|               null|            0|@VirginAmerica SF...|       null|2015-02-24 10:01:...|       palo alto, ca|Pacific Time (US ...|\n",
      "|                  16|         positive|                         1.0|          null|                     null|Virgin America|                  null|  ItzBrianHunty|               null|            0|@VirginAmerica So...|       null|2015-02-24 09:42:...|         west covina|Pacific Time (US ...|\n",
      "|                  17|         negative|                         1.0|    Bad Flight|                      1.0|Virgin America|                  null|  heatherovieda|               null|            0|@VirginAmerica  I...|       null|2015-02-24 09:39:...|this place called...|Eastern Time (US ...|\n",
      "|                  18|         positive|                         1.0|          null|                     null|Virgin America|                  null|   thebrandiray|               null|            0|I ❤️ flying @Virg...|       null|2015-02-24 09:15:...|Somewhere celebra...|Atlantic Time (Ca...|\n",
      "+--------------------+-----------------+----------------------------+--------------+-------------------------+--------------+----------------------+---------------+-------------------+-------------+--------------------+-----------+--------------------+--------------------+--------------------+\n",
      "only showing top 20 rows\n",
      "\n"
     ]
    }
   ],
   "source": [
    "# load dataset to dataframe\n",
    "dataset_df = spark.read.option(\"header\", True).option(\"escape\", '\"').format(\"csv\").load(str(DATASET_PATH))\n",
    "dataset_df.show()\n",
    "\n",
    "# save dataset to Avro\n",
    "AVRO_DATASET_PATH = DATASET_PATH.with_suffix(\".avro\")\n",
    "dataset_df.write.format(\"avro\").save(str(AVRO_DATASET_PATH), mode=\"overwrite\")"
   ]
  },
  {
   "cell_type": "markdown",
   "metadata": {},
   "source": [
    "## Training Demo\n",
    "The following demo shows how to run write Cleanlab columns to be persisted, both in Avro and Parquet format.\n",
    "\n",
    "Note: the results of the demos are ugly because the datasets have flaws!"
   ]
  },
  {
   "cell_type": "markdown",
   "metadata": {},
   "source": [
    "### Create Cleanlab/OOD columns\n",
    "This shows how to generate cleanlab and OOD columns to PySpark tables."
   ]
  },
  {
   "cell_type": "code",
   "execution_count": 15,
   "metadata": {},
   "outputs": [
    {
     "name": "stdout",
     "output_type": "stream",
     "text": [
      "+--------+-----------------+------------------------+------------------------+---------------+----------------------+\n",
      "|tweet_id|airline_sentiment|cleanlab_suggested_label|cleanlab_corrected_label|cleanlab_action|cleanlab_label_quality|\n",
      "+--------+-----------------+------------------------+------------------------+---------------+----------------------+\n",
      "|       0|          neutral|                 neutral|                    null|           null|    0.6876725562745707|\n",
      "|       0|          neutral|                positive|                    null|           null|    0.5061493433191113|\n",
      "|       0|          neutral|                 neutral|                    null|           null|    0.6403897667359648|\n",
      "|       0|          neutral|                negative|                    null|           null|    0.5641236245015528|\n",
      "|       0|          neutral|                negative|                    null|           null|    0.5832089912792499|\n",
      "|       0|          neutral|                negative|                    null|           null|    0.6125107601252794|\n",
      "|       0|          neutral|                    null|                    null|           null|    0.6026739061221984|\n",
      "|       0|          neutral|                positive|                    null|           null|   0.45701514324261305|\n",
      "|       0|          neutral|                 neutral|                    null|           null|   0.16473327047431008|\n",
      "|       0|          neutral|                positive|                    null|           null|   0.27346444197442143|\n",
      "|       0|          neutral|                positive|                    null|           null|   0.35828052651643005|\n",
      "|       0|          neutral|                 neutral|                    null|           null|    0.9986088714879235|\n",
      "|       0|          neutral|                positive|                    null|           null|    0.7775723588476026|\n",
      "|       0|          neutral|                positive|                    null|           null|    0.3431360617409859|\n",
      "|       0|          neutral|                positive|                    null|           null|    0.9040642546770418|\n",
      "|       0|          neutral|                positive|                    null|           null|    0.5895984826434985|\n",
      "|       0|          neutral|                negative|                    null|           null|   0.26355938389814926|\n",
      "|       0|          neutral|                positive|                    null|           null|   0.40152166503692566|\n",
      "|       0|          neutral|                negative|                    null|           null|    0.7387085940207259|\n",
      "|       0|          neutral|                positive|                    null|           null|   0.29162848381148665|\n",
      "+--------+-----------------+------------------------+------------------------+---------------+----------------------+\n",
      "only showing top 20 rows\n",
      "\n",
      "+--------------------+--------------------+-----------------+\n",
      "|            tweet_id|   cleanlab_ood_prob|cleanlab_ood_flag|\n",
      "+--------------------+--------------------+-----------------+\n",
      "|                   0|  0.9799801071235734|             true|\n",
      "|                   1| 0.49667874045399085|            false|\n",
      "|                   2|  0.3611619388616878|            false|\n",
      "|                   3| 0.40946187194508765|            false|\n",
      "|                   4| 0.27779009566141033|            false|\n",
      "|                   5|  0.5387433290578294|            false|\n",
      "|it's really the o...|  0.3432328433701416|            false|\n",
      "|                   6|0.034276598409221704|            false|\n",
      "|                   7|  0.1661586740815243|            false|\n",
      "|                   8|  0.3173535598555781|            false|\n",
      "|                   9|  0.8938848923413693|             true|\n",
      "|                  10| 0.43381932838134596|            false|\n",
      "|                  11|  0.6017406795454817|             true|\n",
      "|                  12|  0.8711430247010934|             true|\n",
      "|                  13|  0.8520198403537128|             true|\n",
      "|                  14|  0.2633399371696439|            false|\n",
      "|                  15|  0.6412151892491429|             true|\n",
      "|                  16|  0.4556192772429083|            false|\n",
      "|                  17|  0.8451379174933784|             true|\n",
      "|                  18|  0.5529063965277291|            false|\n",
      "+--------------------+--------------------+-----------------+\n",
      "only showing top 20 rows\n",
      "\n"
     ]
    }
   ],
   "source": [
    "# load spark table from avro\n",
    "dataset_table = spark.read.format(\"avro\").load(str(AVRO_DATASET_PATH))\n",
    "\n",
    "id_column = \"tweet_id\"\n",
    "label_column = \"airline_sentiment\"\n",
    "\n",
    "# generate randomized cleanlab columns\n",
    "cl_cols = generate_random_cleanlab_columns(dataset_table.alias(\"cl_cols_df\"), id_column=id_column, label_column=label_column)\n",
    "cl_cols.show()\n",
    "\n",
    "# generate randomized OOD columns\n",
    "ood_cols = generate_random_ood_columns(dataset_table.alias(\"ood_cols_df\"), id_column=id_column)\n",
    "ood_cols.show()\n"
   ]
  },
  {
   "cell_type": "markdown",
   "metadata": {},
   "source": [
    "### Save to Avro -- Batched vs Un-batched"
   ]
  },
  {
   "cell_type": "code",
   "execution_count": 8,
   "metadata": {},
   "outputs": [],
   "source": [
    "avro_filename_template = str(AVRO_DATASET_PATH).replace(\".avro\", \"-{filetype}-{save_mode}.avro\")\n",
    "\n",
    "def _create_avro_filename(filetype: str, save_mode: str) -> pathlib.Path:\n",
    "    return pathlib.Path(avro_filename_template.format(filetype=filetype, save_mode=save_mode))\n",
    "\n",
    "def save_df(df_table: pyspark.sql.DataFrame, filetype: str, save_mode: str):\n",
    "    outfile = str(_create_avro_filename(filetype, save_mode))\n",
    "\n",
    "    df_table.write.format(\"avro\").save(outfile, mode=save_mode)"
   ]
  },
  {
   "cell_type": "code",
   "execution_count": 11,
   "metadata": {},
   "outputs": [
    {
     "name": "stderr",
     "output_type": "stream",
     "text": [
      "[Stage 158:>                                                        (0 + 1) / 1]\r"
     ]
    },
    {
     "name": "stdout",
     "output_type": "stream",
     "text": [
      "23/02/28 22:39:02 WARN AvroSerializer: Writing Avro files with non-nullable Avro schema and nullable catalyst schema will throw runtime exception if there is a record with null value.\n",
      "23/02/28 22:39:02 WARN AvroSerializer: Writing Avro files with non-nullable Avro schema and nullable catalyst schema will throw runtime exception if there is a record with null value.\n",
      "23/02/28 22:39:02 WARN AvroSerializer: Writing Avro files with non-nullable Avro schema and nullable catalyst schema will throw runtime exception if there is a record with null value.\n",
      "23/02/28 22:39:02 WARN AvroSerializer: Writing Avro files with non-nullable Avro schema and nullable catalyst schema will throw runtime exception if there is a record with null value.\n",
      "23/02/28 22:39:02 WARN AvroSerializer: Writing Avro files with non-nullable Avro schema and nullable catalyst schema will throw runtime exception if there is a record with null value.\n",
      "23/02/28 22:39:02 WARN AvroSerializer: Writing Avro files with non-nullable Avro schema and nullable catalyst schema will throw runtime exception if there is a record with null value.\n",
      "23/02/28 22:39:02 WARN AvroSerializer: Writing Avro files with non-nullable Avro schema and nullable catalyst schema will throw runtime exception if there is a record with null value.\n",
      "23/02/28 22:39:02 WARN AvroSerializer: Writing Avro files with non-nullable Avro schema and nullable catalyst schema will throw runtime exception if there is a record with null value.\n",
      "23/02/28 22:39:02 WARN AvroSerializer: Writing Avro files with non-nullable Avro schema and nullable catalyst schema will throw runtime exception if there is a record with null value.\n",
      "23/02/28 22:39:02 WARN AvroSerializer: Writing Avro files with non-nullable Avro schema and nullable catalyst schema will throw runtime exception if there is a record with null value.\n",
      "23/02/28 22:39:02 WARN AvroSerializer: Writing Avro files with non-nullable Avro schema and nullable catalyst schema will throw runtime exception if there is a record with null value.\n",
      "23/02/28 22:39:02 WARN AvroSerializer: Writing Avro files with non-nullable Avro schema and nullable catalyst schema will throw runtime exception if there is a record with null value.\n",
      "23/02/28 22:39:02 WARN AvroSerializer: Writing Avro files with non-nullable Avro schema and nullable catalyst schema will throw runtime exception if there is a record with null value.\n",
      "23/02/28 22:39:02 WARN AvroSerializer: Writing Avro files with non-nullable Avro schema and nullable catalyst schema will throw runtime exception if there is a record with null value.\n",
      "23/02/28 22:39:02 WARN AvroSerializer: Writing Avro files with non-nullable Avro schema and nullable catalyst schema will throw runtime exception if there is a record with null value.\n",
      "23/02/28 22:39:02 WARN AvroSerializer: Writing Avro files with non-nullable Avro schema and nullable catalyst schema will throw runtime exception if there is a record with null value.\n"
     ]
    },
    {
     "name": "stderr",
     "output_type": "stream",
     "text": [
      "[Stage 163:>                                                        (0 + 1) / 1]\r"
     ]
    },
    {
     "name": "stdout",
     "output_type": "stream",
     "text": [
      "23/02/28 22:39:04 WARN AvroSerializer: Writing Avro files with non-nullable Avro schema and nullable catalyst schema will throw runtime exception if there is a record with null value.\n",
      "23/02/28 22:39:04 WARN AvroSerializer: Writing Avro files with non-nullable Avro schema and nullable catalyst schema will throw runtime exception if there is a record with null value.\n",
      "23/02/28 22:39:04 WARN AvroSerializer: Writing Avro files with non-nullable Avro schema and nullable catalyst schema will throw runtime exception if there is a record with null value.\n",
      "23/02/28 22:39:04 WARN AvroSerializer: Writing Avro files with non-nullable Avro schema and nullable catalyst schema will throw runtime exception if there is a record with null value.\n",
      "23/02/28 22:39:04 WARN AvroSerializer: Writing Avro files with non-nullable Avro schema and nullable catalyst schema will throw runtime exception if there is a record with null value.\n",
      "23/02/28 22:39:04 WARN AvroSerializer: Writing Avro files with non-nullable Avro schema and nullable catalyst schema will throw runtime exception if there is a record with null value.\n",
      "23/02/28 22:39:04 WARN AvroSerializer: Writing Avro files with non-nullable Avro schema and nullable catalyst schema will throw runtime exception if there is a record with null value.\n",
      "23/02/28 22:39:04 WARN AvroSerializer: Writing Avro files with non-nullable Avro schema and nullable catalyst schema will throw runtime exception if there is a record with null value.\n",
      "23/02/28 22:39:04 WARN AvroSerializer: Writing Avro files with non-nullable Avro schema and nullable catalyst schema will throw runtime exception if there is a record with null value.\n",
      "23/02/28 22:39:04 WARN AvroSerializer: Writing Avro files with non-nullable Avro schema and nullable catalyst schema will throw runtime exception if there is a record with null value.\n",
      "23/02/28 22:39:04 WARN AvroSerializer: Writing Avro files with non-nullable Avro schema and nullable catalyst schema will throw runtime exception if there is a record with null value.\n",
      "23/02/28 22:39:04 WARN AvroSerializer: Writing Avro files with non-nullable Avro schema and nullable catalyst schema will throw runtime exception if there is a record with null value.\n",
      "23/02/28 22:39:04 WARN AvroSerializer: Writing Avro files with non-nullable Avro schema and nullable catalyst schema will throw runtime exception if there is a record with null value.\n",
      "23/02/28 22:39:04 WARN AvroSerializer: Writing Avro files with non-nullable Avro schema and nullable catalyst schema will throw runtime exception if there is a record with null value.\n",
      "23/02/28 22:39:04 WARN AvroSerializer: Writing Avro files with non-nullable Avro schema and nullable catalyst schema will throw runtime exception if there is a record with null value.\n",
      "23/02/28 22:39:04 WARN AvroSerializer: Writing Avro files with non-nullable Avro schema and nullable catalyst schema will throw runtime exception if there is a record with null value.\n"
     ]
    },
    {
     "name": "stderr",
     "output_type": "stream",
     "text": [
      "[Stage 168:>                                                        (0 + 1) / 1]\r"
     ]
    },
    {
     "name": "stdout",
     "output_type": "stream",
     "text": [
      "23/02/28 22:39:06 WARN AvroSerializer: Writing Avro files with non-nullable Avro schema and nullable catalyst schema will throw runtime exception if there is a record with null value.\n",
      "23/02/28 22:39:06 WARN AvroSerializer: Writing Avro files with non-nullable Avro schema and nullable catalyst schema will throw runtime exception if there is a record with null value.\n",
      "23/02/28 22:39:06 WARN AvroSerializer: Writing Avro files with non-nullable Avro schema and nullable catalyst schema will throw runtime exception if there is a record with null value.\n",
      "23/02/28 22:39:06 WARN AvroSerializer: Writing Avro files with non-nullable Avro schema and nullable catalyst schema will throw runtime exception if there is a record with null value.\n",
      "23/02/28 22:39:06 WARN AvroSerializer: Writing Avro files with non-nullable Avro schema and nullable catalyst schema will throw runtime exception if there is a record with null value.\n",
      "23/02/28 22:39:06 WARN AvroSerializer: Writing Avro files with non-nullable Avro schema and nullable catalyst schema will throw runtime exception if there is a record with null value.\n",
      "23/02/28 22:39:06 WARN AvroSerializer: Writing Avro files with non-nullable Avro schema and nullable catalyst schema will throw runtime exception if there is a record with null value.\n",
      "23/02/28 22:39:06 WARN AvroSerializer: Writing Avro files with non-nullable Avro schema and nullable catalyst schema will throw runtime exception if there is a record with null value.\n",
      "23/02/28 22:39:06 WARN AvroSerializer: Writing Avro files with non-nullable Avro schema and nullable catalyst schema will throw runtime exception if there is a record with null value.\n",
      "23/02/28 22:39:06 WARN AvroSerializer: Writing Avro files with non-nullable Avro schema and nullable catalyst schema will throw runtime exception if there is a record with null value.\n",
      "23/02/28 22:39:06 WARN AvroSerializer: Writing Avro files with non-nullable Avro schema and nullable catalyst schema will throw runtime exception if there is a record with null value.\n",
      "23/02/28 22:39:06 WARN AvroSerializer: Writing Avro files with non-nullable Avro schema and nullable catalyst schema will throw runtime exception if there is a record with null value.\n",
      "23/02/28 22:39:06 WARN AvroSerializer: Writing Avro files with non-nullable Avro schema and nullable catalyst schema will throw runtime exception if there is a record with null value.\n",
      "23/02/28 22:39:06 WARN AvroSerializer: Writing Avro files with non-nullable Avro schema and nullable catalyst schema will throw runtime exception if there is a record with null value.\n",
      "23/02/28 22:39:06 WARN AvroSerializer: Writing Avro files with non-nullable Avro schema and nullable catalyst schema will throw runtime exception if there is a record with null value.\n",
      "23/02/28 22:39:06 WARN AvroSerializer: Writing Avro files with non-nullable Avro schema and nullable catalyst schema will throw runtime exception if there is a record with null value.\n"
     ]
    },
    {
     "name": "stderr",
     "output_type": "stream",
     "text": [
      "[Stage 173:>                                                        (0 + 1) / 1]\r"
     ]
    },
    {
     "name": "stdout",
     "output_type": "stream",
     "text": [
      "23/02/28 22:39:08 WARN AvroSerializer: Writing Avro files with non-nullable Avro schema and nullable catalyst schema will throw runtime exception if there is a record with null value.\n",
      "23/02/28 22:39:08 WARN AvroSerializer: Writing Avro files with non-nullable Avro schema and nullable catalyst schema will throw runtime exception if there is a record with null value.\n",
      "23/02/28 22:39:08 WARN AvroSerializer: Writing Avro files with non-nullable Avro schema and nullable catalyst schema will throw runtime exception if there is a record with null value.\n",
      "23/02/28 22:39:08 WARN AvroSerializer: Writing Avro files with non-nullable Avro schema and nullable catalyst schema will throw runtime exception if there is a record with null value.\n",
      "23/02/28 22:39:08 WARN AvroSerializer: Writing Avro files with non-nullable Avro schema and nullable catalyst schema will throw runtime exception if there is a record with null value.\n",
      "23/02/28 22:39:08 WARN AvroSerializer: Writing Avro files with non-nullable Avro schema and nullable catalyst schema will throw runtime exception if there is a record with null value.\n",
      "23/02/28 22:39:08 WARN AvroSerializer: Writing Avro files with non-nullable Avro schema and nullable catalyst schema will throw runtime exception if there is a record with null value.\n",
      "23/02/28 22:39:08 WARN AvroSerializer: Writing Avro files with non-nullable Avro schema and nullable catalyst schema will throw runtime exception if there is a record with null value.\n",
      "23/02/28 22:39:08 WARN AvroSerializer: Writing Avro files with non-nullable Avro schema and nullable catalyst schema will throw runtime exception if there is a record with null value.\n",
      "23/02/28 22:39:08 WARN AvroSerializer: Writing Avro files with non-nullable Avro schema and nullable catalyst schema will throw runtime exception if there is a record with null value.\n",
      "23/02/28 22:39:08 WARN AvroSerializer: Writing Avro files with non-nullable Avro schema and nullable catalyst schema will throw runtime exception if there is a record with null value.\n",
      "23/02/28 22:39:08 WARN AvroSerializer: Writing Avro files with non-nullable Avro schema and nullable catalyst schema will throw runtime exception if there is a record with null value.\n",
      "23/02/28 22:39:08 WARN AvroSerializer: Writing Avro files with non-nullable Avro schema and nullable catalyst schema will throw runtime exception if there is a record with null value.\n",
      "23/02/28 22:39:08 WARN AvroSerializer: Writing Avro files with non-nullable Avro schema and nullable catalyst schema will throw runtime exception if there is a record with null value.\n",
      "23/02/28 22:39:08 WARN AvroSerializer: Writing Avro files with non-nullable Avro schema and nullable catalyst schema will throw runtime exception if there is a record with null value.\n",
      "23/02/28 22:39:08 WARN AvroSerializer: Writing Avro files with non-nullable Avro schema and nullable catalyst schema will throw runtime exception if there is a record with null value.\n"
     ]
    },
    {
     "name": "stderr",
     "output_type": "stream",
     "text": [
      "[Stage 178:>                                                        (0 + 1) / 1]\r"
     ]
    },
    {
     "name": "stdout",
     "output_type": "stream",
     "text": [
      "23/02/28 22:39:10 WARN AvroSerializer: Writing Avro files with non-nullable Avro schema and nullable catalyst schema will throw runtime exception if there is a record with null value.\n",
      "23/02/28 22:39:10 WARN AvroSerializer: Writing Avro files with non-nullable Avro schema and nullable catalyst schema will throw runtime exception if there is a record with null value.\n",
      "23/02/28 22:39:10 WARN AvroSerializer: Writing Avro files with non-nullable Avro schema and nullable catalyst schema will throw runtime exception if there is a record with null value.\n",
      "23/02/28 22:39:10 WARN AvroSerializer: Writing Avro files with non-nullable Avro schema and nullable catalyst schema will throw runtime exception if there is a record with null value.\n",
      "23/02/28 22:39:10 WARN AvroSerializer: Writing Avro files with non-nullable Avro schema and nullable catalyst schema will throw runtime exception if there is a record with null value.\n",
      "23/02/28 22:39:10 WARN AvroSerializer: Writing Avro files with non-nullable Avro schema and nullable catalyst schema will throw runtime exception if there is a record with null value.\n",
      "23/02/28 22:39:10 WARN AvroSerializer: Writing Avro files with non-nullable Avro schema and nullable catalyst schema will throw runtime exception if there is a record with null value.\n",
      "23/02/28 22:39:10 WARN AvroSerializer: Writing Avro files with non-nullable Avro schema and nullable catalyst schema will throw runtime exception if there is a record with null value.\n",
      "23/02/28 22:39:10 WARN AvroSerializer: Writing Avro files with non-nullable Avro schema and nullable catalyst schema will throw runtime exception if there is a record with null value.\n",
      "23/02/28 22:39:10 WARN AvroSerializer: Writing Avro files with non-nullable Avro schema and nullable catalyst schema will throw runtime exception if there is a record with null value.\n",
      "23/02/28 22:39:10 WARN AvroSerializer: Writing Avro files with non-nullable Avro schema and nullable catalyst schema will throw runtime exception if there is a record with null value.\n",
      "23/02/28 22:39:10 WARN AvroSerializer: Writing Avro files with non-nullable Avro schema and nullable catalyst schema will throw runtime exception if there is a record with null value.\n",
      "23/02/28 22:39:10 WARN AvroSerializer: Writing Avro files with non-nullable Avro schema and nullable catalyst schema will throw runtime exception if there is a record with null value.\n",
      "23/02/28 22:39:10 WARN AvroSerializer: Writing Avro files with non-nullable Avro schema and nullable catalyst schema will throw runtime exception if there is a record with null value.\n",
      "23/02/28 22:39:10 WARN AvroSerializer: Writing Avro files with non-nullable Avro schema and nullable catalyst schema will throw runtime exception if there is a record with null value.\n",
      "23/02/28 22:39:10 WARN AvroSerializer: Writing Avro files with non-nullable Avro schema and nullable catalyst schema will throw runtime exception if there is a record with null value.\n"
     ]
    },
    {
     "name": "stderr",
     "output_type": "stream",
     "text": [
      "[Stage 183:>                                                        (0 + 1) / 1]\r"
     ]
    },
    {
     "name": "stdout",
     "output_type": "stream",
     "text": [
      "23/02/28 22:39:12 WARN AvroSerializer: Writing Avro files with non-nullable Avro schema and nullable catalyst schema will throw runtime exception if there is a record with null value.\n",
      "23/02/28 22:39:12 WARN AvroSerializer: Writing Avro files with non-nullable Avro schema and nullable catalyst schema will throw runtime exception if there is a record with null value.\n",
      "23/02/28 22:39:12 WARN AvroSerializer: Writing Avro files with non-nullable Avro schema and nullable catalyst schema will throw runtime exception if there is a record with null value.\n",
      "23/02/28 22:39:12 WARN AvroSerializer: Writing Avro files with non-nullable Avro schema and nullable catalyst schema will throw runtime exception if there is a record with null value.\n",
      "23/02/28 22:39:12 WARN AvroSerializer: Writing Avro files with non-nullable Avro schema and nullable catalyst schema will throw runtime exception if there is a record with null value.\n",
      "23/02/28 22:39:12 WARN AvroSerializer: Writing Avro files with non-nullable Avro schema and nullable catalyst schema will throw runtime exception if there is a record with null value.\n",
      "23/02/28 22:39:12 WARN AvroSerializer: Writing Avro files with non-nullable Avro schema and nullable catalyst schema will throw runtime exception if there is a record with null value.\n",
      "23/02/28 22:39:12 WARN AvroSerializer: Writing Avro files with non-nullable Avro schema and nullable catalyst schema will throw runtime exception if there is a record with null value.\n",
      "23/02/28 22:39:12 WARN AvroSerializer: Writing Avro files with non-nullable Avro schema and nullable catalyst schema will throw runtime exception if there is a record with null value.\n",
      "23/02/28 22:39:12 WARN AvroSerializer: Writing Avro files with non-nullable Avro schema and nullable catalyst schema will throw runtime exception if there is a record with null value.\n",
      "23/02/28 22:39:12 WARN AvroSerializer: Writing Avro files with non-nullable Avro schema and nullable catalyst schema will throw runtime exception if there is a record with null value.\n",
      "23/02/28 22:39:12 WARN AvroSerializer: Writing Avro files with non-nullable Avro schema and nullable catalyst schema will throw runtime exception if there is a record with null value.\n",
      "23/02/28 22:39:12 WARN AvroSerializer: Writing Avro files with non-nullable Avro schema and nullable catalyst schema will throw runtime exception if there is a record with null value.\n",
      "23/02/28 22:39:12 WARN AvroSerializer: Writing Avro files with non-nullable Avro schema and nullable catalyst schema will throw runtime exception if there is a record with null value.\n",
      "23/02/28 22:39:12 WARN AvroSerializer: Writing Avro files with non-nullable Avro schema and nullable catalyst schema will throw runtime exception if there is a record with null value.\n",
      "23/02/28 22:39:12 WARN AvroSerializer: Writing Avro files with non-nullable Avro schema and nullable catalyst schema will throw runtime exception if there is a record with null value.\n"
     ]
    },
    {
     "name": "stderr",
     "output_type": "stream",
     "text": [
      "[Stage 188:>                                                        (0 + 1) / 1]\r"
     ]
    },
    {
     "name": "stdout",
     "output_type": "stream",
     "text": [
      "23/02/28 22:39:14 WARN AvroSerializer: Writing Avro files with non-nullable Avro schema and nullable catalyst schema will throw runtime exception if there is a record with null value.\n",
      "23/02/28 22:39:14 WARN AvroSerializer: Writing Avro files with non-nullable Avro schema and nullable catalyst schema will throw runtime exception if there is a record with null value.\n",
      "23/02/28 22:39:14 WARN AvroSerializer: Writing Avro files with non-nullable Avro schema and nullable catalyst schema will throw runtime exception if there is a record with null value.\n",
      "23/02/28 22:39:14 WARN AvroSerializer: Writing Avro files with non-nullable Avro schema and nullable catalyst schema will throw runtime exception if there is a record with null value.\n",
      "23/02/28 22:39:14 WARN AvroSerializer: Writing Avro files with non-nullable Avro schema and nullable catalyst schema will throw runtime exception if there is a record with null value.\n",
      "23/02/28 22:39:14 WARN AvroSerializer: Writing Avro files with non-nullable Avro schema and nullable catalyst schema will throw runtime exception if there is a record with null value.\n",
      "23/02/28 22:39:14 WARN AvroSerializer: Writing Avro files with non-nullable Avro schema and nullable catalyst schema will throw runtime exception if there is a record with null value.\n",
      "23/02/28 22:39:14 WARN AvroSerializer: Writing Avro files with non-nullable Avro schema and nullable catalyst schema will throw runtime exception if there is a record with null value.\n",
      "23/02/28 22:39:14 WARN AvroSerializer: Writing Avro files with non-nullable Avro schema and nullable catalyst schema will throw runtime exception if there is a record with null value.\n",
      "23/02/28 22:39:14 WARN AvroSerializer: Writing Avro files with non-nullable Avro schema and nullable catalyst schema will throw runtime exception if there is a record with null value.\n",
      "23/02/28 22:39:14 WARN AvroSerializer: Writing Avro files with non-nullable Avro schema and nullable catalyst schema will throw runtime exception if there is a record with null value.\n",
      "23/02/28 22:39:14 WARN AvroSerializer: Writing Avro files with non-nullable Avro schema and nullable catalyst schema will throw runtime exception if there is a record with null value.\n",
      "23/02/28 22:39:14 WARN AvroSerializer: Writing Avro files with non-nullable Avro schema and nullable catalyst schema will throw runtime exception if there is a record with null value.\n",
      "23/02/28 22:39:14 WARN AvroSerializer: Writing Avro files with non-nullable Avro schema and nullable catalyst schema will throw runtime exception if there is a record with null value.\n",
      "23/02/28 22:39:14 WARN AvroSerializer: Writing Avro files with non-nullable Avro schema and nullable catalyst schema will throw runtime exception if there is a record with null value.\n",
      "23/02/28 22:39:14 WARN AvroSerializer: Writing Avro files with non-nullable Avro schema and nullable catalyst schema will throw runtime exception if there is a record with null value.\n"
     ]
    },
    {
     "name": "stderr",
     "output_type": "stream",
     "text": [
      "[Stage 193:>                                                        (0 + 1) / 1]\r"
     ]
    },
    {
     "name": "stdout",
     "output_type": "stream",
     "text": [
      "23/02/28 22:39:16 WARN AvroSerializer: Writing Avro files with non-nullable Avro schema and nullable catalyst schema will throw runtime exception if there is a record with null value.\n",
      "23/02/28 22:39:16 WARN AvroSerializer: Writing Avro files with non-nullable Avro schema and nullable catalyst schema will throw runtime exception if there is a record with null value.\n",
      "23/02/28 22:39:16 WARN AvroSerializer: Writing Avro files with non-nullable Avro schema and nullable catalyst schema will throw runtime exception if there is a record with null value.\n",
      "23/02/28 22:39:16 WARN AvroSerializer: Writing Avro files with non-nullable Avro schema and nullable catalyst schema will throw runtime exception if there is a record with null value.\n",
      "23/02/28 22:39:16 WARN AvroSerializer: Writing Avro files with non-nullable Avro schema and nullable catalyst schema will throw runtime exception if there is a record with null value.\n",
      "23/02/28 22:39:16 WARN AvroSerializer: Writing Avro files with non-nullable Avro schema and nullable catalyst schema will throw runtime exception if there is a record with null value.\n",
      "23/02/28 22:39:16 WARN AvroSerializer: Writing Avro files with non-nullable Avro schema and nullable catalyst schema will throw runtime exception if there is a record with null value.\n",
      "23/02/28 22:39:16 WARN AvroSerializer: Writing Avro files with non-nullable Avro schema and nullable catalyst schema will throw runtime exception if there is a record with null value.\n",
      "23/02/28 22:39:16 WARN AvroSerializer: Writing Avro files with non-nullable Avro schema and nullable catalyst schema will throw runtime exception if there is a record with null value.\n",
      "23/02/28 22:39:16 WARN AvroSerializer: Writing Avro files with non-nullable Avro schema and nullable catalyst schema will throw runtime exception if there is a record with null value.\n",
      "23/02/28 22:39:16 WARN AvroSerializer: Writing Avro files with non-nullable Avro schema and nullable catalyst schema will throw runtime exception if there is a record with null value.\n",
      "23/02/28 22:39:16 WARN AvroSerializer: Writing Avro files with non-nullable Avro schema and nullable catalyst schema will throw runtime exception if there is a record with null value.\n",
      "23/02/28 22:39:16 WARN AvroSerializer: Writing Avro files with non-nullable Avro schema and nullable catalyst schema will throw runtime exception if there is a record with null value.\n",
      "23/02/28 22:39:16 WARN AvroSerializer: Writing Avro files with non-nullable Avro schema and nullable catalyst schema will throw runtime exception if there is a record with null value.\n",
      "23/02/28 22:39:16 WARN AvroSerializer: Writing Avro files with non-nullable Avro schema and nullable catalyst schema will throw runtime exception if there is a record with null value.\n",
      "23/02/28 22:39:16 WARN AvroSerializer: Writing Avro files with non-nullable Avro schema and nullable catalyst schema will throw runtime exception if there is a record with null value.\n"
     ]
    },
    {
     "name": "stderr",
     "output_type": "stream",
     "text": [
      "[Stage 198:>                                                        (0 + 1) / 1]\r"
     ]
    },
    {
     "name": "stdout",
     "output_type": "stream",
     "text": [
      "23/02/28 22:39:18 WARN AvroSerializer: Writing Avro files with non-nullable Avro schema and nullable catalyst schema will throw runtime exception if there is a record with null value.\n",
      "23/02/28 22:39:18 WARN AvroSerializer: Writing Avro files with non-nullable Avro schema and nullable catalyst schema will throw runtime exception if there is a record with null value.\n",
      "23/02/28 22:39:18 WARN AvroSerializer: Writing Avro files with non-nullable Avro schema and nullable catalyst schema will throw runtime exception if there is a record with null value.\n",
      "23/02/28 22:39:18 WARN AvroSerializer: Writing Avro files with non-nullable Avro schema and nullable catalyst schema will throw runtime exception if there is a record with null value.\n",
      "23/02/28 22:39:18 WARN AvroSerializer: Writing Avro files with non-nullable Avro schema and nullable catalyst schema will throw runtime exception if there is a record with null value.\n",
      "23/02/28 22:39:18 WARN AvroSerializer: Writing Avro files with non-nullable Avro schema and nullable catalyst schema will throw runtime exception if there is a record with null value.\n",
      "23/02/28 22:39:18 WARN AvroSerializer: Writing Avro files with non-nullable Avro schema and nullable catalyst schema will throw runtime exception if there is a record with null value.\n",
      "23/02/28 22:39:18 WARN AvroSerializer: Writing Avro files with non-nullable Avro schema and nullable catalyst schema will throw runtime exception if there is a record with null value.\n",
      "23/02/28 22:39:18 WARN AvroSerializer: Writing Avro files with non-nullable Avro schema and nullable catalyst schema will throw runtime exception if there is a record with null value.\n",
      "23/02/28 22:39:18 WARN AvroSerializer: Writing Avro files with non-nullable Avro schema and nullable catalyst schema will throw runtime exception if there is a record with null value.\n",
      "23/02/28 22:39:18 WARN AvroSerializer: Writing Avro files with non-nullable Avro schema and nullable catalyst schema will throw runtime exception if there is a record with null value.\n",
      "23/02/28 22:39:18 WARN AvroSerializer: Writing Avro files with non-nullable Avro schema and nullable catalyst schema will throw runtime exception if there is a record with null value.\n",
      "23/02/28 22:39:18 WARN AvroSerializer: Writing Avro files with non-nullable Avro schema and nullable catalyst schema will throw runtime exception if there is a record with null value.\n",
      "23/02/28 22:39:18 WARN AvroSerializer: Writing Avro files with non-nullable Avro schema and nullable catalyst schema will throw runtime exception if there is a record with null value.\n",
      "23/02/28 22:39:18 WARN AvroSerializer: Writing Avro files with non-nullable Avro schema and nullable catalyst schema will throw runtime exception if there is a record with null value.\n",
      "23/02/28 22:39:18 WARN AvroSerializer: Writing Avro files with non-nullable Avro schema and nullable catalyst schema will throw runtime exception if there is a record with null value.\n"
     ]
    },
    {
     "name": "stderr",
     "output_type": "stream",
     "text": [
      "[Stage 203:>                                                        (0 + 1) / 1]\r"
     ]
    },
    {
     "name": "stdout",
     "output_type": "stream",
     "text": [
      "23/02/28 22:39:20 WARN AvroSerializer: Writing Avro files with non-nullable Avro schema and nullable catalyst schema will throw runtime exception if there is a record with null value.\n",
      "23/02/28 22:39:20 WARN AvroSerializer: Writing Avro files with non-nullable Avro schema and nullable catalyst schema will throw runtime exception if there is a record with null value.\n",
      "23/02/28 22:39:20 WARN AvroSerializer: Writing Avro files with non-nullable Avro schema and nullable catalyst schema will throw runtime exception if there is a record with null value.\n",
      "23/02/28 22:39:20 WARN AvroSerializer: Writing Avro files with non-nullable Avro schema and nullable catalyst schema will throw runtime exception if there is a record with null value.\n",
      "23/02/28 22:39:20 WARN AvroSerializer: Writing Avro files with non-nullable Avro schema and nullable catalyst schema will throw runtime exception if there is a record with null value.\n",
      "23/02/28 22:39:20 WARN AvroSerializer: Writing Avro files with non-nullable Avro schema and nullable catalyst schema will throw runtime exception if there is a record with null value.\n",
      "23/02/28 22:39:20 WARN AvroSerializer: Writing Avro files with non-nullable Avro schema and nullable catalyst schema will throw runtime exception if there is a record with null value.\n",
      "23/02/28 22:39:20 WARN AvroSerializer: Writing Avro files with non-nullable Avro schema and nullable catalyst schema will throw runtime exception if there is a record with null value.\n",
      "23/02/28 22:39:20 WARN AvroSerializer: Writing Avro files with non-nullable Avro schema and nullable catalyst schema will throw runtime exception if there is a record with null value.\n",
      "23/02/28 22:39:20 WARN AvroSerializer: Writing Avro files with non-nullable Avro schema and nullable catalyst schema will throw runtime exception if there is a record with null value.\n",
      "23/02/28 22:39:20 WARN AvroSerializer: Writing Avro files with non-nullable Avro schema and nullable catalyst schema will throw runtime exception if there is a record with null value.\n",
      "23/02/28 22:39:20 WARN AvroSerializer: Writing Avro files with non-nullable Avro schema and nullable catalyst schema will throw runtime exception if there is a record with null value.\n",
      "23/02/28 22:39:20 WARN AvroSerializer: Writing Avro files with non-nullable Avro schema and nullable catalyst schema will throw runtime exception if there is a record with null value.\n",
      "23/02/28 22:39:20 WARN AvroSerializer: Writing Avro files with non-nullable Avro schema and nullable catalyst schema will throw runtime exception if there is a record with null value.\n",
      "23/02/28 22:39:20 WARN AvroSerializer: Writing Avro files with non-nullable Avro schema and nullable catalyst schema will throw runtime exception if there is a record with null value.\n",
      "23/02/28 22:39:20 WARN AvroSerializer: Writing Avro files with non-nullable Avro schema and nullable catalyst schema will throw runtime exception if there is a record with null value.\n"
     ]
    },
    {
     "name": "stderr",
     "output_type": "stream",
     "text": [
      "                                                                                \r"
     ]
    }
   ],
   "source": [
    "# saving to Avro in batches\n",
    "num_batches = 10\n",
    "save_mode = \"append\"\n",
    "\n",
    "def _get_slices(df_table: pyspark.sql.DataFrame, num_slices: int) -> Iterator[pyspark.sql.DataFrame]:\n",
    "    slice_size = df_table.count() // num_slices\n",
    "    slice_indices = [n * slice_size for n in range(num_slices)] + [df_table.count() - 1]\n",
    "\n",
    "    df_table = df_table.withColumn(\"__index\", pyspark.sql.functions.monotonically_increasing_id())\n",
    "    df_table = df_table.orderBy(\"__index\")\n",
    "    for start, end in zip(slice_indices[:-1], slice_indices[1:]):\n",
    "        yield df_table.filter(\n",
    "            start < pyspark.sql.functions.col(\"__index\")\n",
    "        ).filter(\n",
    "            end >= pyspark.sql.functions.col(\"__index\")\n",
    "        )\n",
    "\n",
    "\n",
    "# cleanup existing\n",
    "if _create_avro_filename(\"cl_cols\", save_mode).is_dir():\n",
    "    shutil.rmtree(avro_filename_template.format(filetype=\"cl_cols\", save_mode=save_mode))\n",
    "if _create_avro_filename(\"ood_cols\", save_mode).is_dir():\n",
    "    shutil.rmtree(avro_filename_template.format(filetype=\"ood_cols\", save_mode=save_mode))\n",
    "\n",
    "# save cleanlab columns\n",
    "for cl_cols_slice in _get_slices(cl_cols, num_batches):\n",
    "    save_df(cl_cols_slice, filetype=\"cl_cols\", save_mode=save_mode)\n",
    "\n",
    "# save ood columns\n",
    "for ood_cols_slice in _get_slices(ood_cols, num_batches):\n",
    "    save_df(ood_cols_slice, filetype=\"ood_cols\", save_mode=save_mode)\n"
   ]
  },
  {
   "cell_type": "code",
   "execution_count": 12,
   "metadata": {},
   "outputs": [
    {
     "name": "stdout",
     "output_type": "stream",
     "text": [
      "23/02/28 22:40:17 WARN AvroSerializer: Writing Avro files with non-nullable Avro schema and nullable catalyst schema will throw runtime exception if there is a record with null value.\n",
      "23/02/28 22:40:17 WARN AvroSerializer: Writing Avro files with non-nullable Avro schema and nullable catalyst schema will throw runtime exception if there is a record with null value.\n"
     ]
    },
    {
     "name": "stderr",
     "output_type": "stream",
     "text": [
      "                                                                                \r"
     ]
    }
   ],
   "source": [
    "# save to Avro un-batched\n",
    "save_mode = \"overwrite\"\n",
    "\n",
    "save_df(cl_cols, filetype=\"cl_cols\", save_mode=save_mode)\n",
    "save_df(ood_cols, filetype=\"ood_cols\", save_mode=save_mode)"
   ]
  },
  {
   "cell_type": "markdown",
   "metadata": {},
   "source": [
    "### Save to Parquet"
   ]
  },
  {
   "cell_type": "code",
   "execution_count": 16,
   "metadata": {},
   "outputs": [
    {
     "name": "stderr",
     "output_type": "stream",
     "text": [
      "                                                                                \r"
     ]
    }
   ],
   "source": [
    "parquet_filename_template = str(AVRO_DATASET_PATH).replace(\".avro\", \"-{filetype}.parquet\")\n",
    "\n",
    "cl_cols.write.parquet(parquet_filename_template.format(filetype=\"cl_cols\"))\n",
    "ood_cols.write.parquet(parquet_filename_template.format(filetype=\"ood_cols\"))"
   ]
  }
 ],
 "metadata": {
  "kernelspec": {
   "display_name": "Python 3.10.4 64-bit ('3.10.4')",
   "language": "python",
   "name": "python3"
  },
  "language_info": {
   "codemirror_mode": {
    "name": "ipython",
    "version": 3
   },
   "file_extension": ".py",
   "mimetype": "text/x-python",
   "name": "python",
   "nbconvert_exporter": "python",
   "pygments_lexer": "ipython3",
   "version": "3.10.4"
  },
  "orig_nbformat": 4,
  "vscode": {
   "interpreter": {
    "hash": "0c352b5f43b626817a3ee00531d8acb728eb3c04bba5cd7e8d5b5c36e507dff1"
   }
  }
 },
 "nbformat": 4,
 "nbformat_minor": 2
}
